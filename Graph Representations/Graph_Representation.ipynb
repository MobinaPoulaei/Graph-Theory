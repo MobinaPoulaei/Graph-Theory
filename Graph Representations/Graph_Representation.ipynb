{
  "nbformat": 4,
  "nbformat_minor": 0,
  "metadata": {
    "colab": {
      "provenance": []
    },
    "kernelspec": {
      "name": "python3",
      "display_name": "Python 3"
    },
    "language_info": {
      "name": "python"
    }
  },
  "cells": [
    {
      "cell_type": "code",
      "source": [
        "class Graph:\n",
        "  def __init__(self, num_vertices):\n",
        "      # Initialize the graph with a specified number of vertices\n",
        "      self.num_vertices = num_vertices\n",
        "      # Create an adjacency matrix to represent the graph, initialized to all zeros\n",
        "      self.adj_matrix = [[0] * num_vertices for _ in range(num_vertices)]\n",
        "\n",
        "  def add_edge(self, from_vertex, to_vertex, weight=1):\n",
        "      # Add an edge between 'from_vertex' and 'to_vertex' with the specified weight\n",
        "      self.adj_matrix[from_vertex][to_vertex] = weight\n",
        "      self.adj_matrix[to_vertex][from_vertex] = weight\n",
        "\n",
        "  def display(self):\n",
        "      # Display the adjacency matrix row by row\n",
        "      for row in self.adj_matrix:\n",
        "          print(row)"
      ],
      "metadata": {
        "id": "blgU1pSF9Dil"
      },
      "execution_count": 132,
      "outputs": []
    },
    {
      "cell_type": "code",
      "source": [
        "# Create an unweighted graph with 4 vertices (Nodes)\n",
        "unweighted_graph = Graph(4)\n",
        "\n",
        "# Add edges\n",
        "unweighted_graph.add_edge(0, 1)\n",
        "unweighted_graph.add_edge(0, 2)\n",
        "unweighted_graph.add_edge(1, 3)\n",
        "unweighted_graph.add_edge(2, 3)\n",
        "\n",
        "# Display the adjacency matrix\n",
        "print(\"Adjacency Matrix:\")\n",
        "unweighted_graph.display()"
      ],
      "metadata": {
        "colab": {
          "base_uri": "https://localhost:8080/"
        },
        "id": "5-mvHmdPM0z9",
        "outputId": "b6cbee3a-bcca-4c7e-a39c-fb103e25e630"
      },
      "execution_count": 133,
      "outputs": [
        {
          "output_type": "stream",
          "name": "stdout",
          "text": [
            "Adjacency Matrix:\n",
            "[0, 1, 1, 0]\n",
            "[1, 0, 0, 1]\n",
            "[1, 0, 0, 1]\n",
            "[0, 1, 1, 0]\n"
          ]
        }
      ]
    },
    {
      "cell_type": "code",
      "source": [
        "# Create a weighted graph with 4 vertices (Nodes)\n",
        "weighted_graph = Graph(4)\n",
        "\n",
        "# Add edges\n",
        "weighted_graph.add_edge(0, 1, weight=3)\n",
        "weighted_graph.add_edge(0, 2, weight=4)\n",
        "weighted_graph.add_edge(1, 3, weight=5)\n",
        "weighted_graph.add_edge(2, 3, weight=2)\n",
        "\n",
        "# Display the adjacency matrix\n",
        "print(\"Adjacency Matrix:\")\n",
        "weighted_graph.display()"
      ],
      "metadata": {
        "colab": {
          "base_uri": "https://localhost:8080/"
        },
        "id": "Y3l5CKElM_jK",
        "outputId": "233c71a2-126a-47a0-b174-6d96aa2112eb"
      },
      "execution_count": 134,
      "outputs": [
        {
          "output_type": "stream",
          "name": "stdout",
          "text": [
            "Adjacency Matrix:\n",
            "[0, 3, 4, 0]\n",
            "[3, 0, 0, 5]\n",
            "[4, 0, 0, 2]\n",
            "[0, 5, 2, 0]\n"
          ]
        }
      ]
    },
    {
      "cell_type": "code",
      "source": [
        "class DirectedGraph:\n",
        "  def __init__(self, num_vertices):\n",
        "      # Initialize the graph with a specified number of vertices\n",
        "      self.num_vertices = num_vertices\n",
        "      # Create an adjacency matrix to represent the graph, initialized to all zeros\n",
        "      self.adj_matrix = [[0] * num_vertices for _ in range(num_vertices)]\n",
        "\n",
        "  def add_edge(self, from_vertex, to_vertex, weight=1):\n",
        "      # Add a directed edge from 'from_vertex' to 'to_vertex' with the specified weight\n",
        "      self.adj_matrix[from_vertex][to_vertex] = weight\n",
        "\n",
        "  def display(self):\n",
        "      # Display the adjacency matrix row by row\n",
        "      for row in self.adj_matrix:\n",
        "          print(row)"
      ],
      "metadata": {
        "id": "9bt0iFvCzEKv"
      },
      "execution_count": 135,
      "outputs": []
    },
    {
      "cell_type": "code",
      "source": [
        "# Create a weighted graph with 4 vertices (Nodes)\n",
        "unweighted_graph = DirectedGraph(4)\n",
        "\n",
        "# Add edges\n",
        "unweighted_graph.add_edge(0, 1)\n",
        "unweighted_graph.add_edge(1, 0)\n",
        "unweighted_graph.add_edge(1, 3)\n",
        "unweighted_graph.add_edge(3, 2)\n",
        "\n",
        "# Display the adjacency matrix\n",
        "print(\"Adjacency Matrix:\")\n",
        "unweighted_graph.display()"
      ],
      "metadata": {
        "colab": {
          "base_uri": "https://localhost:8080/"
        },
        "id": "VBimwjpvzI9O",
        "outputId": "b89cc734-b790-4c47-e299-0d901de26a46"
      },
      "execution_count": 136,
      "outputs": [
        {
          "output_type": "stream",
          "name": "stdout",
          "text": [
            "Adjacency Matrix:\n",
            "[0, 1, 0, 0]\n",
            "[1, 0, 0, 1]\n",
            "[0, 0, 0, 0]\n",
            "[0, 0, 1, 0]\n"
          ]
        }
      ]
    },
    {
      "cell_type": "code",
      "source": [
        "# Create a weighted graph with 4 vertices (Nodes)\n",
        "weighted_graph = DirectedGraph(4)\n",
        "\n",
        "# Add edges\n",
        "weighted_graph.add_edge(0, 1, weight=3)\n",
        "weighted_graph.add_edge(1, 0, weight=4)\n",
        "weighted_graph.add_edge(1, 3, weight=5)\n",
        "weighted_graph.add_edge(2, 3, weight=2)\n",
        "weighted_graph.add_edge(3, 2, weight=-1)\n",
        "\n",
        "# Display the adjacency matrix\n",
        "print(\"Adjacency Matrix:\")\n",
        "weighted_graph.display()"
      ],
      "metadata": {
        "colab": {
          "base_uri": "https://localhost:8080/"
        },
        "id": "bDbu-dQizIi3",
        "outputId": "d438f62a-d600-49ba-910e-7c30daac4267"
      },
      "execution_count": 137,
      "outputs": [
        {
          "output_type": "stream",
          "name": "stdout",
          "text": [
            "Adjacency Matrix:\n",
            "[0, 3, 0, 0]\n",
            "[4, 0, 0, 5]\n",
            "[0, 0, 0, 2]\n",
            "[0, 0, -1, 0]\n"
          ]
        }
      ]
    },
    {
      "cell_type": "code",
      "source": [
        "def find_neighbors(matrix, node):\n",
        "  # Initialize an empty list to store the neighbors\n",
        "  neighbors = []\n",
        "  # Iterate over each value in the row corresponding to the given node\n",
        "  for i, val in enumerate(matrix[node]):\n",
        "      # If the value is not zero, it means there is an edge between 'node' and 'i'\n",
        "      if val != 0:\n",
        "          # Add the node 'i' to the neighbors list\n",
        "          neighbors.append(i)\n",
        "  # Return the list of neighbors\n",
        "  return neighbors\n",
        "\n",
        "# Create a graph with 4 vertices (Nodes)\n",
        "graph = Graph(4)\n",
        "\n",
        "# Add edges\n",
        "graph.add_edge(0, 1)\n",
        "graph.add_edge(0, 2)\n",
        "graph.add_edge(1, 3)\n",
        "graph.add_edge(2, 3)\n",
        "\n",
        "neighbors_of_0 = find_neighbors(graph.adj_matrix, 0)\n",
        "print(\"Neighbors of Node 0:\", neighbors_of_0)"
      ],
      "metadata": {
        "colab": {
          "base_uri": "https://localhost:8080/"
        },
        "id": "R59oYnHHAMoC",
        "outputId": "88f8ae86-5d0b-4777-c3a3-c2916e674447"
      },
      "execution_count": 138,
      "outputs": [
        {
          "output_type": "stream",
          "name": "stdout",
          "text": [
            "Neighbors of Node 0: [1, 2]\n"
          ]
        }
      ]
    },
    {
      "cell_type": "code",
      "source": [
        "import numpy as np\n",
        "\n",
        "# Create a graph with 3 vertices (Nodes)\n",
        "graph = Graph(3)\n",
        "\n",
        "# Add edges to the graph\n",
        "graph.add_edge(0, 1)\n",
        "graph.add_edge(1, 2)\n",
        "\n",
        "# Display the adjacency matrix of the graph\n",
        "print(\"Adjacency Matrix:\")\n",
        "graph.display()\n",
        "\n",
        "# Convert the adjacency matrix to a NumPy\n",
        "np_graph = np.array(graph.adj_matrix)\n",
        "# Compute the square of the adjacency matrix\n",
        "graph_squared = np.linalg.matrix_power(np_graph, 2)\n",
        "\n",
        "# Display the squared adjacency matrix\n",
        "print(\"\\nAdjacency Matrix Squared:\")\n",
        "print(graph_squared)"
      ],
      "metadata": {
        "colab": {
          "base_uri": "https://localhost:8080/"
        },
        "id": "QQpVd7w4EvUV",
        "outputId": "ab3df63d-ff49-42a8-ebb4-abcd41e96389"
      },
      "execution_count": 139,
      "outputs": [
        {
          "output_type": "stream",
          "name": "stdout",
          "text": [
            "Adjacency Matrix:\n",
            "[0, 1, 0]\n",
            "[1, 0, 1]\n",
            "[0, 1, 0]\n",
            "\n",
            "Adjacency Matrix Squared:\n",
            "[[1 0 1]\n",
            " [0 2 0]\n",
            " [1 0 1]]\n"
          ]
        }
      ]
    },
    {
      "cell_type": "code",
      "source": [
        "def has_edge(matrix, from_vertex, to_vertex):\n",
        "  # Check if there is an edge between 'from_vertex' and 'to_vertex'\n",
        "  # If the value in the adjacency matrix is not 0, there is an edge\n",
        "  return matrix[from_vertex][to_vertex] != 0\n",
        "\n",
        "# Create a graph with 3 vertices (Nodes)\n",
        "graph = Graph(3)\n",
        "\n",
        "# Add edges to the graph\n",
        "graph.add_edge(0, 1)\n",
        "graph.add_edge(1, 2)\n",
        "\n",
        "# Check if there is an edge between vertex 0 and vertex 1\n",
        "edge_exists = has_edge(graph.adj_matrix, 0, 1)\n",
        "print(\"If there is any edge:\", edge_exists)"
      ],
      "metadata": {
        "colab": {
          "base_uri": "https://localhost:8080/"
        },
        "id": "BR_OUU0MJ7Hb",
        "outputId": "7b197e96-95c5-4f40-e546-f71d497f9fbe"
      },
      "execution_count": 140,
      "outputs": [
        {
          "output_type": "stream",
          "name": "stdout",
          "text": [
            "If there is any edge: True\n"
          ]
        }
      ]
    },
    {
      "cell_type": "code",
      "source": [
        "class Graph:\n",
        "  def __init__(self, num_vertices):\n",
        "      # Initialize the graph with a specified number of vertices\n",
        "      self.num_vertices = num_vertices\n",
        "      # Initialize the degree matrix with zeros\n",
        "      self.degree_matrix =  [[0] * num_vertices for _ in range(num_vertices)]\n",
        "\n",
        "  def add_edge(self, from_vertex, to_vertex, weight=1):\n",
        "      # Add an edge between 'from_vertex' and 'to_vertex'\n",
        "      self.degree_matrix[from_vertex][from_vertex] += weight\n",
        "      self.degree_matrix[to_vertex][to_vertex] += weight\n",
        "\n",
        "  def display(self):\n",
        "      # Display the degree matrix row by row\n",
        "      for row in self.degree_matrix:\n",
        "          print(row)"
      ],
      "metadata": {
        "id": "sLJt-DHExWSN"
      },
      "execution_count": 141,
      "outputs": []
    },
    {
      "cell_type": "code",
      "source": [
        "# Create an unweighted graph with 4 vertices (Nodes)\n",
        "unweighted_graph = Graph(4)\n",
        "\n",
        "# Add edges\n",
        "unweighted_graph.add_edge(0, 1)\n",
        "unweighted_graph.add_edge(0, 2)\n",
        "unweighted_graph.add_edge(0, 3)\n",
        "unweighted_graph.add_edge(1, 2)\n",
        "\n",
        "# Display the Degree Matrix\n",
        "print(\"Degree Matrix:\")\n",
        "unweighted_graph.display()"
      ],
      "metadata": {
        "colab": {
          "base_uri": "https://localhost:8080/"
        },
        "id": "mZKcpupV2qgM",
        "outputId": "b5381bfb-fa3b-445f-ce75-c3e2188281f6"
      },
      "execution_count": 142,
      "outputs": [
        {
          "output_type": "stream",
          "name": "stdout",
          "text": [
            "Degree Matrix:\n",
            "[3, 0, 0, 0]\n",
            "[0, 2, 0, 0]\n",
            "[0, 0, 2, 0]\n",
            "[0, 0, 0, 1]\n"
          ]
        }
      ]
    },
    {
      "cell_type": "code",
      "source": [
        "# Create a weighted graph with 4 vertices (Nodes)\n",
        "weighted_graph = Graph(4)\n",
        "\n",
        "# Add edges\n",
        "weighted_graph.add_edge(0, 1, weight=2)\n",
        "weighted_graph.add_edge(0, 2, weight=3)\n",
        "weighted_graph.add_edge(0, 3, weight=3)\n",
        "weighted_graph.add_edge(1, 2, weight=4)\n",
        "\n",
        "# Display the Degree Matrix\n",
        "print(\"Degree Matrix:\")\n",
        "weighted_graph.display()"
      ],
      "metadata": {
        "colab": {
          "base_uri": "https://localhost:8080/"
        },
        "id": "9GHG52rMvNm_",
        "outputId": "e4f84afc-3de6-47d1-fa5e-71605e87c728"
      },
      "execution_count": 143,
      "outputs": [
        {
          "output_type": "stream",
          "name": "stdout",
          "text": [
            "Degree Matrix:\n",
            "[8, 0, 0, 0]\n",
            "[0, 6, 0, 0]\n",
            "[0, 0, 7, 0]\n",
            "[0, 0, 0, 3]\n"
          ]
        }
      ]
    },
    {
      "cell_type": "code",
      "source": [
        "class DirectedGraph:\n",
        "  def __init__(self, num_vertices):\n",
        "      # Initialize the graph with a specified number of vertices\n",
        "      self.num_vertices = num_vertices\n",
        "      # Initialize the in-degree and out-degree matrices with zeros\n",
        "      self.in_degree_matrix = [[0] * num_vertices for _ in range(num_vertices)]\n",
        "      self.out_degree_matrix = [[0] * num_vertices for _ in range(num_vertices)]\n",
        "\n",
        "  def add_edge(self, from_vertex, to_vertex, weight=1):\n",
        "      # Add an edge from 'from_vertex' to 'to_vertex'\n",
        "      self.out_degree_matrix[from_vertex][from_vertex] += weight\n",
        "      self.in_degree_matrix[to_vertex][to_vertex] += weight\n",
        "\n",
        "  def display_in_degree_matrix(self):\n",
        "      # Display the in-degree matrix row by row\n",
        "      for row in self.in_degree_matrix:\n",
        "          print(row)\n",
        "\n",
        "  def display_out_degree_matrix(self):\n",
        "      # Display the out-degree matrix row by row\n",
        "      for row in self.out_degree_matrix:\n",
        "          print(row)"
      ],
      "metadata": {
        "id": "7MRxzuIE-Xsr"
      },
      "execution_count": 144,
      "outputs": []
    },
    {
      "cell_type": "code",
      "source": [
        "# Create an unweighted graph with 4 vertices (Nodes)\n",
        "unweighted_graph = DirectedGraph(4)\n",
        "\n",
        "# Add edges\n",
        "unweighted_graph.add_edge(0, 1)\n",
        "unweighted_graph.add_edge(0, 2)\n",
        "unweighted_graph.add_edge(0, 3)\n",
        "unweighted_graph.add_edge(2, 0)\n",
        "\n",
        "# Display the Degree Matrix\n",
        "print(\"In-Degree Matrix:\")\n",
        "unweighted_graph.display_in_degree_matrix()\n",
        "print(\"Out-Degree Matrix:\")\n",
        "unweighted_graph.display_out_degree_matrix()"
      ],
      "metadata": {
        "colab": {
          "base_uri": "https://localhost:8080/"
        },
        "id": "DP9aJF_c-ZPJ",
        "outputId": "f57eb79f-b797-4f55-e925-0b1be93edd0b"
      },
      "execution_count": 145,
      "outputs": [
        {
          "output_type": "stream",
          "name": "stdout",
          "text": [
            "In-Degree Matrix:\n",
            "[1, 0, 0, 0]\n",
            "[0, 1, 0, 0]\n",
            "[0, 0, 1, 0]\n",
            "[0, 0, 0, 1]\n",
            "Out-Degree Matrix:\n",
            "[3, 0, 0, 0]\n",
            "[0, 0, 0, 0]\n",
            "[0, 0, 1, 0]\n",
            "[0, 0, 0, 0]\n"
          ]
        }
      ]
    },
    {
      "cell_type": "code",
      "source": [
        "# Create a weighted graph with 4 vertices (Nodes)\n",
        "weighted_graph = DirectedGraph(4)\n",
        "\n",
        "# Add edges\n",
        "weighted_graph.add_edge(0, 1, weight=2)\n",
        "weighted_graph.add_edge(0, 2, weight=3)\n",
        "weighted_graph.add_edge(2, 0, weight=4)\n",
        "weighted_graph.add_edge(3, 1, weight=3)\n",
        "\n",
        "# Display the Degree Matrix\n",
        "print(\"In-Degree Matrix:\")\n",
        "weighted_graph.display_in_degree_matrix()\n",
        "print(\"Out-Degree Matrix:\")\n",
        "weighted_graph.display_out_degree_matrix()"
      ],
      "metadata": {
        "colab": {
          "base_uri": "https://localhost:8080/"
        },
        "id": "UvAvtGx5vzfy",
        "outputId": "f5dc700a-eca1-4df3-8339-de4c40e12a7c"
      },
      "execution_count": 146,
      "outputs": [
        {
          "output_type": "stream",
          "name": "stdout",
          "text": [
            "In-Degree Matrix:\n",
            "[4, 0, 0, 0]\n",
            "[0, 5, 0, 0]\n",
            "[0, 0, 3, 0]\n",
            "[0, 0, 0, 0]\n",
            "Out-Degree Matrix:\n",
            "[5, 0, 0, 0]\n",
            "[0, 0, 0, 0]\n",
            "[0, 0, 4, 0]\n",
            "[0, 0, 0, 3]\n"
          ]
        }
      ]
    },
    {
      "cell_type": "code",
      "source": [
        "class Graph:\n",
        "  def __init__(self, num_vertices):\n",
        "      # Initialize the graph with a specified number of vertices\n",
        "      self.num_vertices = num_vertices\n",
        "      # Initialize the incidence matrix as an empty list\n",
        "      self.incidence_matrix = [[] for _ in range(num_vertices)]\n",
        "      self.edges = []\n",
        "\n",
        "  def add_edge(self, from_vertex, to_vertex, weight=1):\n",
        "      # Add an edge between 'from_vertex' and 'to_vertex' with a specified weight\n",
        "      self.edges.append((from_vertex, to_vertex, weight))\n",
        "      # Extend the incidence matrix to add a new column for the new edge\n",
        "      for row in self.incidence_matrix:\n",
        "          row.append(0)\n",
        "      # Get the index of the new edge\n",
        "      edge_index = len(self.edges) - 1\n",
        "      # Update the incidence matrix\n",
        "      self.incidence_matrix[from_vertex][edge_index] = weight\n",
        "      self.incidence_matrix[to_vertex][edge_index] = weight\n",
        "\n",
        "  def display(self):\n",
        "      # Display the incidence matrix row by row\n",
        "      for row in self.incidence_matrix:\n",
        "          print(row)"
      ],
      "metadata": {
        "id": "JsNSTfsS2txf"
      },
      "execution_count": 147,
      "outputs": []
    },
    {
      "cell_type": "code",
      "source": [
        "# Create an unweighted graph with 4 vertices (Nodes)\n",
        "unweighted_graph = Graph(4)\n",
        "\n",
        "# Add edges\n",
        "unweighted_graph.add_edge(0, 1)\n",
        "unweighted_graph.add_edge(1, 2)\n",
        "unweighted_graph.add_edge(1, 3)\n",
        "unweighted_graph.add_edge(3, 1)\n",
        "unweighted_graph.add_edge(2, 3)\n",
        "\n",
        "# Display the Incidence Matrix\n",
        "print(\"Incidence Matrix:\")\n",
        "unweighted_graph.display()"
      ],
      "metadata": {
        "colab": {
          "base_uri": "https://localhost:8080/"
        },
        "id": "0r6_1-RsjarC",
        "outputId": "9c0938b6-7166-468a-bde4-f0ed68db6407"
      },
      "execution_count": 148,
      "outputs": [
        {
          "output_type": "stream",
          "name": "stdout",
          "text": [
            "Incidence Matrix:\n",
            "[1, 0, 0, 0, 0]\n",
            "[1, 1, 1, 1, 0]\n",
            "[0, 1, 0, 0, 1]\n",
            "[0, 0, 1, 1, 1]\n"
          ]
        }
      ]
    },
    {
      "cell_type": "code",
      "source": [
        "# Create a weighted graph with 4 vertices (Nodes)\n",
        "weighted_graph = Graph(4)\n",
        "\n",
        "# Add edges\n",
        "weighted_graph.add_edge(0, 1, weight=2)\n",
        "weighted_graph.add_edge(1, 2, weight=3)\n",
        "weighted_graph.add_edge(1, 3, weight=4)\n",
        "weighted_graph.add_edge(3, 1, weight=3)\n",
        "weighted_graph.add_edge(2, 3, weight=3)\n",
        "\n",
        "# Display the Incidence Matrix\n",
        "print(\"Incidence Matrix:\")\n",
        "weighted_graph.display()"
      ],
      "metadata": {
        "colab": {
          "base_uri": "https://localhost:8080/"
        },
        "id": "AlrYE5PRjFFp",
        "outputId": "3e7d1aff-43ab-472b-f8ae-601bfe0f0a3f"
      },
      "execution_count": 149,
      "outputs": [
        {
          "output_type": "stream",
          "name": "stdout",
          "text": [
            "Incidence Matrix:\n",
            "[2, 0, 0, 0, 0]\n",
            "[2, 3, 4, 3, 0]\n",
            "[0, 3, 0, 0, 3]\n",
            "[0, 0, 4, 3, 3]\n"
          ]
        }
      ]
    },
    {
      "cell_type": "code",
      "source": [
        "class DirectedGraph:\n",
        "  def __init__(self, num_vertices):\n",
        "      # Initialize the graph with a specified number of vertices\n",
        "      self.num_vertices = num_vertices\n",
        "      # Initialize the incidence matrix as an empty list\n",
        "      self.incidence_matrix = [[] for _ in range(num_vertices)]\n",
        "      self.edges = []\n",
        "\n",
        "  def add_edge(self, from_vertex, to_vertex, weight=1):\n",
        "      # Add an edge between 'from_vertex' and 'to_vertex' with a specified weight\n",
        "      self.edges.append((from_vertex, to_vertex, weight))\n",
        "      # Extend the incidence matrix to add a new column for the new edge\n",
        "      for row in self.incidence_matrix:\n",
        "          row.append(0)\n",
        "      # Get the index of the new edge\n",
        "      edge_index = len(self.edges) - 1\n",
        "      # Update the incidence matrix\n",
        "      self.incidence_matrix[from_vertex][edge_index] = -weight  # -weight for the source node\n",
        "      self.incidence_matrix[to_vertex][edge_index] = weight     # weight for the target node\n",
        "\n",
        "  def display(self):\n",
        "      # Display the incidence matrix row by row\n",
        "      for row in self.incidence_matrix:\n",
        "          print(row)"
      ],
      "metadata": {
        "id": "LNACX8On2YPO"
      },
      "execution_count": 150,
      "outputs": []
    },
    {
      "cell_type": "code",
      "source": [
        "# Create an unweighted graph with 4 vertices (Nodes)\n",
        "unweighted_graph = DirectedGraph(4)\n",
        "\n",
        "# Add edges\n",
        "unweighted_graph.add_edge(0, 1)\n",
        "unweighted_graph.add_edge(1, 2)\n",
        "unweighted_graph.add_edge(1, 3)\n",
        "unweighted_graph.add_edge(3, 1)\n",
        "unweighted_graph.add_edge(2, 3)\n",
        "\n",
        "# Display the Incidence Matrix\n",
        "print(\"Incidence Matrix:\")\n",
        "unweighted_graph.display()"
      ],
      "metadata": {
        "colab": {
          "base_uri": "https://localhost:8080/"
        },
        "id": "Jzms8bT52iJi",
        "outputId": "8cb28291-c2c9-49c4-cd30-31ef1720dc4c"
      },
      "execution_count": 151,
      "outputs": [
        {
          "output_type": "stream",
          "name": "stdout",
          "text": [
            "Incidence Matrix:\n",
            "[-1, 0, 0, 0, 0]\n",
            "[1, -1, -1, 1, 0]\n",
            "[0, 1, 0, 0, -1]\n",
            "[0, 0, 1, -1, 1]\n"
          ]
        }
      ]
    },
    {
      "cell_type": "code",
      "source": [
        "# Create a weighted graph with 4 vertices (Nodes)\n",
        "weighted_graph = DirectedGraph(4)\n",
        "\n",
        "# Add edges\n",
        "weighted_graph.add_edge(0, 1, weight=2)\n",
        "weighted_graph.add_edge(1, 2, weight=3)\n",
        "weighted_graph.add_edge(1, 3, weight=4)\n",
        "weighted_graph.add_edge(3, 1, weight=2)\n",
        "weighted_graph.add_edge(2, 3, weight=3)\n",
        "\n",
        "# Display the Incidence Matrix\n",
        "print(\"Incidence Matrix:\")\n",
        "weighted_graph.display()"
      ],
      "metadata": {
        "colab": {
          "base_uri": "https://localhost:8080/"
        },
        "id": "Dxt3kdTO2iUR",
        "outputId": "442a8288-0b22-4bd4-e632-858288a6e348"
      },
      "execution_count": 152,
      "outputs": [
        {
          "output_type": "stream",
          "name": "stdout",
          "text": [
            "Incidence Matrix:\n",
            "[-2, 0, 0, 0, 0]\n",
            "[2, -3, -4, 2, 0]\n",
            "[0, 3, 0, 0, -3]\n",
            "[0, 0, 4, -2, 3]\n"
          ]
        }
      ]
    },
    {
      "cell_type": "code",
      "source": [
        "def calculate_degrees(matrix):\n",
        "  # Calculate degrees of each vertex by summing absolute values in each row\n",
        "  degrees = [sum(abs(x) for x in row) for row in matrix]\n",
        "  return degrees\n",
        "\n",
        "# Create a graph with 4 vertices (Nodes)\n",
        "graph = Graph(4)\n",
        "\n",
        "# Add edges\n",
        "graph.add_edge(0, 1)\n",
        "graph.add_edge(0, 2)\n",
        "graph.add_edge(1, 2)\n",
        "graph.add_edge(2, 3)\n",
        "\n",
        "# Display the Incidence Matrix\n",
        "print(\"Incidence Matrix:\")\n",
        "graph.display()\n",
        "\n",
        "# Display the Degrees of vertices\n",
        "degrees = calculate_degrees(graph.incidence_matrix)\n",
        "print(\"\\nDegrees of vertices:\", degrees)"
      ],
      "metadata": {
        "colab": {
          "base_uri": "https://localhost:8080/"
        },
        "id": "eghoSH-CHk3x",
        "outputId": "5093544f-4eff-42c8-8741-01272f95de93"
      },
      "execution_count": 153,
      "outputs": [
        {
          "output_type": "stream",
          "name": "stdout",
          "text": [
            "Incidence Matrix:\n",
            "[1, 1, 0, 0]\n",
            "[1, 0, 1, 0]\n",
            "[0, 1, 1, 1]\n",
            "[0, 0, 0, 1]\n",
            "\n",
            "Degrees of vertices: [2, 2, 3, 1]\n"
          ]
        }
      ]
    },
    {
      "cell_type": "code",
      "source": [
        "def calculate_degrees(matrix):\n",
        "  # Calculate in-degrees by summing positive values in each row\n",
        "  in_degrees = [sum(x for x in row if x > 0) for row in matrix]\n",
        "  # Calculate out-degrees by summing absolute values of negative values in each row\n",
        "  out_degrees = [sum(-x for x in row if x < 0) for row in matrix]\n",
        "  return in_degrees, out_degrees\n",
        "\n",
        "# Create a graph with 4 vertices (Nodes)\n",
        "graph = DirectedGraph(4)\n",
        "\n",
        "# Add edges\n",
        "graph.add_edge(0, 1)\n",
        "graph.add_edge(0, 2)\n",
        "graph.add_edge(1, 2)\n",
        "graph.add_edge(2, 3)\n",
        "\n",
        "# Display the Incidence Matrix\n",
        "print(\"Incidence Matrix:\")\n",
        "graph.display()\n",
        "\n",
        "# Display the Degrees of vertices\n",
        "degrees = calculate_degrees(graph.incidence_matrix)\n",
        "print(\"\\nDegrees of vertices:\", degrees)"
      ],
      "metadata": {
        "colab": {
          "base_uri": "https://localhost:8080/"
        },
        "id": "iUGRW-qmLZe1",
        "outputId": "e716d86e-11e5-4624-951a-b8ea49e125ea"
      },
      "execution_count": 154,
      "outputs": [
        {
          "output_type": "stream",
          "name": "stdout",
          "text": [
            "Incidence Matrix:\n",
            "[-1, -1, 0, 0]\n",
            "[1, 0, -1, 0]\n",
            "[0, 1, 1, -1]\n",
            "[0, 0, 0, 1]\n",
            "\n",
            "Degrees of vertices: ([0, 1, 2, 1], [2, 1, 1, 0])\n"
          ]
        }
      ]
    },
    {
      "cell_type": "code",
      "source": [
        "def get_edges(incidence_matrix):\n",
        "  # An empty list to store edges\n",
        "  edges = []\n",
        "  # Get the number of edges\n",
        "  num_edges = len(incidence_matrix[0])\n",
        "  # Get the number of vertices\n",
        "  num_vertices = len(incidence_matrix)\n",
        "\n",
        "  for j in range(num_edges):\n",
        "      # An empty list to store vertices\n",
        "      vertices = []\n",
        "      # Iterate over each vertex\n",
        "      for i in range(num_vertices):\n",
        "          # Check if the vertex is connected by the edge\n",
        "          if incidence_matrix[i][j] > 0:\n",
        "              vertices.append(i)\n",
        "      # If two vertices are connected by the edge, add the edge to the list\n",
        "      if len(vertices) == 2:\n",
        "          edges.append((vertices[0], vertices[1]))\n",
        "  return edges\n",
        "\n",
        "# Create a graph with 4 vertices (Nodes)\n",
        "graph = Graph(4)\n",
        "\n",
        "# Add edges\n",
        "graph.add_edge(0, 1)\n",
        "graph.add_edge(0, 2)\n",
        "graph.add_edge(1, 2)\n",
        "graph.add_edge(2, 3)\n",
        "graph.add_edge(1, 3)\n",
        "\n",
        "# Display the Incidence Matrix\n",
        "print(\"Incidence Matrix:\")\n",
        "graph.display()\n",
        "\n",
        "# Display the Edges in the graph\n",
        "edges = get_edges(graph.incidence_matrix)\n",
        "print(\"\\nEdges in the graph:\", edges)"
      ],
      "metadata": {
        "colab": {
          "base_uri": "https://localhost:8080/"
        },
        "id": "Ya1OyNR-SFM3",
        "outputId": "870caf2a-1425-497e-98bb-c3090bcca877"
      },
      "execution_count": 155,
      "outputs": [
        {
          "output_type": "stream",
          "name": "stdout",
          "text": [
            "Incidence Matrix:\n",
            "[1, 1, 0, 0, 0]\n",
            "[1, 0, 1, 0, 1]\n",
            "[0, 1, 1, 1, 0]\n",
            "[0, 0, 0, 1, 1]\n",
            "\n",
            "Edges in the graph: [(0, 1), (0, 2), (1, 2), (2, 3), (1, 3)]\n"
          ]
        }
      ]
    },
    {
      "cell_type": "code",
      "source": [
        "def get_edges(incidence_matrix):\n",
        "    # An empty list to store edges\n",
        "    edges = []\n",
        "    # Get the number of edges\n",
        "    num_edges = len(incidence_matrix[0])\n",
        "    # Get the number of vertices\n",
        "    num_vertices = len(incidence_matrix)\n",
        "\n",
        "    for j in range(num_edges):\n",
        "        from_vertex = None\n",
        "        to_vertex = None\n",
        "\n",
        "        # Iterate over each vertex\n",
        "        for i in range(num_vertices):\n",
        "            if incidence_matrix[i][j] < 0:\n",
        "                # Identify the source vertex (negative weight)\n",
        "                from_vertex = i\n",
        "            elif incidence_matrix[i][j] > 0:\n",
        "                # Identify the target vertex (positive weight)\n",
        "                to_vertex = i\n",
        "\n",
        "        # If both source and target vertices are identified, add the edge to the list\n",
        "        if from_vertex is not None and to_vertex is not None:\n",
        "            edges.append((from_vertex, to_vertex))\n",
        "\n",
        "    return edges\n",
        "\n",
        "# Create a graph with 4 vertices (Nodes)\n",
        "graph = DirectedGraph(4)\n",
        "\n",
        "# Add edges\n",
        "graph.add_edge(0, 1)\n",
        "graph.add_edge(2, 0)\n",
        "graph.add_edge(1, 2)\n",
        "graph.add_edge(2, 3)\n",
        "\n",
        "# Display the Incidence Matrix\n",
        "print(\"Incidence Matrix:\")\n",
        "graph.display()\n",
        "\n",
        "# Display the Edges in the graph\n",
        "edges = get_edges(graph.incidence_matrix)\n",
        "print(\"\\nEdges in the graph:\", edges)"
      ],
      "metadata": {
        "colab": {
          "base_uri": "https://localhost:8080/"
        },
        "id": "hvHmPe9eTDf2",
        "outputId": "489a9e32-35ee-49ff-947e-3679ae44569b"
      },
      "execution_count": 156,
      "outputs": [
        {
          "output_type": "stream",
          "name": "stdout",
          "text": [
            "Incidence Matrix:\n",
            "[-1, 1, 0, 0]\n",
            "[1, 0, -1, 0]\n",
            "[0, -1, 1, -1]\n",
            "[0, 0, 0, 1]\n",
            "\n",
            "Edges in the graph: [(0, 1), (2, 0), (1, 2), (2, 3)]\n"
          ]
        }
      ]
    },
    {
      "cell_type": "code",
      "source": [
        "class GraphNode:\n",
        "    def __init__(self, vertex, weight=None):\n",
        "        # Initialize a graph node with the given vertex and optional weight\n",
        "        self.vertex = vertex\n",
        "        self.weight = weight\n",
        "        self.next = None\n",
        "\n",
        "class Graph:\n",
        "  def __init__(self, num_vertices):\n",
        "      # Initialize the graph with a specified number of vertices\n",
        "      self.V = num_vertices\n",
        "      # Create an adjacency list with None values for each vertex\n",
        "      self.adj_list = [None] * num_vertices\n",
        "      # Initialize a flag to check if the graph is weighted\n",
        "      self.weighted = False\n",
        "\n",
        "  def add_edge(self, v1, v2, weight=None):\n",
        "      # Add an edge between 'v1' and 'v2' with an optional weight\n",
        "      if weight is not None:\n",
        "          self.weighted = True\n",
        "          new_node = GraphNode(v2, weight)\n",
        "      else:\n",
        "          new_node = GraphNode(v2)\n",
        "      # Add the new node to the adjacency list of 'v1'\n",
        "      new_node.next = self.adj_list[v1]\n",
        "      self.adj_list[v1] = new_node\n",
        "\n",
        "      # Repeat the process for 'v2' to ensure undirected behavior\n",
        "      if weight is not None:\n",
        "          new_node = GraphNode(v1, weight)\n",
        "      else:\n",
        "          new_node = GraphNode(v1)\n",
        "      # Add the new node to the adjacency list of 'v2'\n",
        "      new_node.next = self.adj_list[v2]\n",
        "      self.adj_list[v2] = new_node\n",
        "\n",
        "  def display(self):\n",
        "      # Display the adjacency list of the graph\n",
        "      for i in range(self.V):\n",
        "          print(f\"Vertex {i}:\", end=\"\")\n",
        "          temp = self.adj_list[i]\n",
        "          while temp:\n",
        "              # Print the vertex and weight if the graph is weighted\n",
        "              if self.weighted and temp.weight is not None:\n",
        "                  print(f\" -> ({temp.vertex}, {temp.weight})\", end=\"\")\n",
        "              else:\n",
        "                  print(f\" -> {temp.vertex}\", end=\"\")\n",
        "              temp = temp.next\n",
        "          print()"
      ],
      "metadata": {
        "id": "67PwwbUUQF5O"
      },
      "execution_count": 157,
      "outputs": []
    },
    {
      "cell_type": "code",
      "source": [
        "# Create an unweighted graph\n",
        "unweighted_graph = Graph(4)\n",
        "\n",
        "# Add edges\n",
        "unweighted_graph.add_edge(0, 1)\n",
        "unweighted_graph.add_edge(1, 2)\n",
        "unweighted_graph.add_edge(1, 3)\n",
        "unweighted_graph.add_edge(2, 3)\n",
        "\n",
        "# Display the Adjacency list\n",
        "print(\"Adjacency list:\")\n",
        "unweighted_graph.display()"
      ],
      "metadata": {
        "colab": {
          "base_uri": "https://localhost:8080/"
        },
        "id": "Rc84QsbiVDvQ",
        "outputId": "95ca2333-a0e7-45af-e8b7-7976173b8f61"
      },
      "execution_count": 158,
      "outputs": [
        {
          "output_type": "stream",
          "name": "stdout",
          "text": [
            "Adjacency list:\n",
            "Vertex 0: -> 1\n",
            "Vertex 1: -> 3 -> 2 -> 0\n",
            "Vertex 2: -> 3 -> 1\n",
            "Vertex 3: -> 2 -> 1\n"
          ]
        }
      ]
    },
    {
      "cell_type": "code",
      "source": [
        "# Create a weighted graph\n",
        "graph = Graph(4)\n",
        "\n",
        "# Add edges\n",
        "graph.add_edge(0, 1, 2)\n",
        "graph.add_edge(1, 2, 4)\n",
        "graph.add_edge(1, 3, 3)\n",
        "graph.add_edge(2, 3, 5)\n",
        "\n",
        "# Display the Adjacency list\n",
        "print(\"Adjacency list:\")\n",
        "graph.display()"
      ],
      "metadata": {
        "colab": {
          "base_uri": "https://localhost:8080/"
        },
        "id": "Ton46gBqVWlh",
        "outputId": "ce98998c-93ce-48ed-c0cf-3167f454393a"
      },
      "execution_count": 159,
      "outputs": [
        {
          "output_type": "stream",
          "name": "stdout",
          "text": [
            "Adjacency list:\n",
            "Vertex 0: -> (1, 2)\n",
            "Vertex 1: -> (3, 3) -> (2, 4) -> (0, 2)\n",
            "Vertex 2: -> (3, 5) -> (1, 4)\n",
            "Vertex 3: -> (2, 5) -> (1, 3)\n"
          ]
        }
      ]
    },
    {
      "cell_type": "code",
      "source": [
        "class GraphNode:\n",
        "    def __init__(self, vertex, weight=None):\n",
        "        # Initialize a graph node with the given vertex and optional weight\n",
        "        self.vertex = vertex\n",
        "        self.weight = weight\n",
        "        self.next = None\n",
        "\n",
        "class DirectedGraph:\n",
        "    def __init__(self, num_vertices):\n",
        "        # Initialize the graph with a specified number of vertices\n",
        "        self.V = num_vertices\n",
        "        # Create an adjacency list with None values for each vertex\n",
        "        self.adj_list = [None] * num_vertices\n",
        "        # Initialize a flag to check if the graph is weighted\n",
        "        self.weighted = False\n",
        "\n",
        "    def add_edge(self, v1, v2, weight=None):\n",
        "        # Add an edge from 'v1' to 'v2' with an optional weight\n",
        "        if weight is not None:\n",
        "            self.weighted = True\n",
        "            new_node = GraphNode(v2, weight)\n",
        "        else:\n",
        "            new_node = GraphNode(v2)\n",
        "\n",
        "        # Add the new node to the adjacency list of 'v1'\n",
        "        new_node.next = self.adj_list[v1]\n",
        "        self.adj_list[v1] = new_node\n",
        "\n",
        "    def display(self):\n",
        "        # Display the adjacency list of the graph\n",
        "        for i in range(self.V):\n",
        "            print(f\"Vertex {i}:\", end=\"\")\n",
        "            temp = self.adj_list[i]\n",
        "            while temp:\n",
        "                # Print the vertex and weight if the graph is weighted\n",
        "                if self.weighted and temp.weight is not None:\n",
        "                    print(f\" -> ({temp.vertex}, {temp.weight})\", end=\"\")\n",
        "                else:\n",
        "                    print(f\" -> {temp.vertex}\", end=\"\")\n",
        "                temp = temp.next\n",
        "            print()"
      ],
      "metadata": {
        "id": "9KOrDCwLV6gu"
      },
      "execution_count": 160,
      "outputs": []
    },
    {
      "cell_type": "code",
      "source": [
        "# Create an unweighted graph\n",
        "unweighted_graph = DirectedGraph(4)\n",
        "\n",
        "# Add edges\n",
        "unweighted_graph.add_edge(0, 1)\n",
        "unweighted_graph.add_edge(1, 2)\n",
        "unweighted_graph.add_edge(1, 3)\n",
        "unweighted_graph.add_edge(2, 3)\n",
        "\n",
        "# Display the Adjacency list\n",
        "print(\"Adjacency list:\")\n",
        "unweighted_graph.display()"
      ],
      "metadata": {
        "colab": {
          "base_uri": "https://localhost:8080/"
        },
        "id": "KXgP-O35WNMp",
        "outputId": "69fabde9-fbd4-4bea-b1c9-5be616aab9d9"
      },
      "execution_count": 161,
      "outputs": [
        {
          "output_type": "stream",
          "name": "stdout",
          "text": [
            "Adjacency list:\n",
            "Vertex 0: -> 1\n",
            "Vertex 1: -> 3 -> 2\n",
            "Vertex 2: -> 3\n",
            "Vertex 3:\n"
          ]
        }
      ]
    },
    {
      "cell_type": "code",
      "source": [
        "# Create a weighted graph\n",
        "graph = DirectedGraph(4)\n",
        "\n",
        "# Add edges\n",
        "graph.add_edge(0, 1, 10)\n",
        "graph.add_edge(1, 2, 30)\n",
        "graph.add_edge(1, 3, 40)\n",
        "graph.add_edge(2, 3, 60)\n",
        "\n",
        "# Display the Adjacency list\n",
        "print(\"Adjacency list:\")\n",
        "graph.display()"
      ],
      "metadata": {
        "colab": {
          "base_uri": "https://localhost:8080/"
        },
        "id": "XBPE7o1_VjLK",
        "outputId": "c8c9398e-886d-4181-f74f-b1ab098ddd5c"
      },
      "execution_count": 162,
      "outputs": [
        {
          "output_type": "stream",
          "name": "stdout",
          "text": [
            "Adjacency list:\n",
            "Vertex 0: -> (1, 10)\n",
            "Vertex 1: -> (3, 40) -> (2, 30)\n",
            "Vertex 2: -> (3, 60)\n",
            "Vertex 3:\n"
          ]
        }
      ]
    },
    {
      "cell_type": "code",
      "source": [
        "def has_edge(adj_list, v1, v2):\n",
        "  # Adjacency list of vertex v1\n",
        "  current = adj_list[v1]\n",
        "  # Traverse the adjacency list\n",
        "  while current is not None:\n",
        "    # Check if the current vertex is v2\n",
        "    if current.vertex == v2:\n",
        "        return True\n",
        "    # Move to the next vertex in the adjacency list\n",
        "    current = current.next\n",
        "  return False\n",
        "\n",
        "# Create a graph\n",
        "graph = Graph(4)\n",
        "\n",
        "# Add edges\n",
        "graph.add_edge(0, 1)\n",
        "graph.add_edge(1, 2)\n",
        "graph.add_edge(1, 3)\n",
        "graph.add_edge(2, 3)\n",
        "\n",
        "# Display the Adjacency list\n",
        "print(\"Adjacency list:\")\n",
        "graph.display()\n",
        "\n",
        "# Check if there is an edge between vertices 1 and 2\n",
        "if has_edge(graph.adj_list, 1, 2):\n",
        "    print(\"There is an edge between vertices 1 and 2.\")\n",
        "else:\n",
        "    print(\"There is no edge between vertices 1 and 2.\")"
      ],
      "metadata": {
        "colab": {
          "base_uri": "https://localhost:8080/"
        },
        "id": "7wQYBBVk3evg",
        "outputId": "81a2ad53-0b6a-4ced-ed8e-8e19320a2bbb"
      },
      "execution_count": 163,
      "outputs": [
        {
          "output_type": "stream",
          "name": "stdout",
          "text": [
            "Adjacency list:\n",
            "Vertex 0: -> 1\n",
            "Vertex 1: -> 3 -> 2 -> 0\n",
            "Vertex 2: -> 3 -> 1\n",
            "Vertex 3: -> 2 -> 1\n",
            "There is an edge between vertices 1 and 2.\n"
          ]
        }
      ]
    },
    {
      "cell_type": "code",
      "source": [
        "def get_neighbors(adj_list, v):\n",
        "  # An empty list to store neighbors\n",
        "  neighbors = []\n",
        "  # Adjacency list of vertex v\n",
        "  current = adj_list[v]\n",
        "  # Traverse the adjacency list\n",
        "  while current is not None:\n",
        "    # Add the current vertex to the neighbors list\n",
        "    neighbors.append(current.vertex)\n",
        "    #  Move to the next vertex in the adjacency list\n",
        "    current = current.next\n",
        "  return neighbors\n",
        "\n",
        "# Create a graph\n",
        "graph = Graph(4)\n",
        "\n",
        "# Add edges\n",
        "graph.add_edge(0, 1)\n",
        "graph.add_edge(1, 2)\n",
        "graph.add_edge(1, 3)\n",
        "graph.add_edge(2, 3)\n",
        "\n",
        "# Display the Adjacency list\n",
        "print(\"Adjacency list:\")\n",
        "graph.display()\n",
        "\n",
        "# Get the neighbors of vertex 1\n",
        "neighbors = get_neighbors(graph.adj_list, 1)\n",
        "print(\"Neighbors of vertex 1:\", neighbors)"
      ],
      "metadata": {
        "colab": {
          "base_uri": "https://localhost:8080/"
        },
        "id": "WUQ9GLt9_FBe",
        "outputId": "4fa355c0-c172-4449-912f-e13297bef660"
      },
      "execution_count": 164,
      "outputs": [
        {
          "output_type": "stream",
          "name": "stdout",
          "text": [
            "Adjacency list:\n",
            "Vertex 0: -> 1\n",
            "Vertex 1: -> 3 -> 2 -> 0\n",
            "Vertex 2: -> 3 -> 1\n",
            "Vertex 3: -> 2 -> 1\n",
            "Neighbors of vertex 1: [3, 2, 0]\n"
          ]
        }
      ]
    }
  ]
}