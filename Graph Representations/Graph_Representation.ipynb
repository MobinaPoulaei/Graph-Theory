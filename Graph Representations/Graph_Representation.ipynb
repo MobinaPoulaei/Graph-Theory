{
  "nbformat": 4,
  "nbformat_minor": 0,
  "metadata": {
    "colab": {
      "provenance": []
    },
    "kernelspec": {
      "name": "python3",
      "display_name": "Python 3"
    },
    "language_info": {
      "name": "python"
    }
  },
  "cells": [
    {
      "cell_type": "code",
      "source": [
        "class Graph:\n",
        "  def __init__(self, num_vertices):\n",
        "      # Initialize the graph with a specified number of vertices\n",
        "      self.num_vertices = num_vertices\n",
        "      # Create an adjacency matrix to represent the graph, initialized to all zeros\n",
        "      self.adj_matrix = [[0] * num_vertices for _ in range(num_vertices)]\n",
        "\n",
        "  def add_edge(self, from_vertex, to_vertex, weight=1):\n",
        "      # Add an edge between 'from_vertex' and 'to_vertex' with the specified weight\n",
        "      # Since this is an undirected graph, we add the weight to both [from_vertex][to_vertex] and [to_vertex][from_vertex]\n",
        "      self.adj_matrix[from_vertex][to_vertex] = weight\n",
        "      self.adj_matrix[to_vertex][from_vertex] = weight\n",
        "\n",
        "  def display(self):\n",
        "      # Display the adjacency matrix row by row\n",
        "      for row in self.adj_matrix:\n",
        "          print(row)"
      ],
      "metadata": {
        "id": "blgU1pSF9Dil"
      },
      "execution_count": 47,
      "outputs": []
    },
    {
      "cell_type": "code",
      "source": [
        "# Create an unweighted graph with 4 vertices (Nodes)\n",
        "unweighted_graph = Graph(4)\n",
        "\n",
        "# Add edges\n",
        "unweighted_graph.add_edge(0, 1)\n",
        "unweighted_graph.add_edge(0, 2)\n",
        "unweighted_graph.add_edge(1, 3)\n",
        "unweighted_graph.add_edge(2, 3)\n",
        "\n",
        "# Display the adjacency matrix\n",
        "print(\"Adjacency Matrix:\")\n",
        "unweighted_graph.display()"
      ],
      "metadata": {
        "colab": {
          "base_uri": "https://localhost:8080/"
        },
        "id": "5-mvHmdPM0z9",
        "outputId": "11d0d7c0-39c4-4a6c-cbc9-709da8f49c26"
      },
      "execution_count": 48,
      "outputs": [
        {
          "output_type": "stream",
          "name": "stdout",
          "text": [
            "Adjacency Matrix:\n",
            "[0, 1, 1, 0]\n",
            "[1, 0, 0, 1]\n",
            "[1, 0, 0, 1]\n",
            "[0, 1, 1, 0]\n"
          ]
        }
      ]
    },
    {
      "cell_type": "code",
      "source": [
        "# Create a weighted graph with 4 vertices (Nodes)\n",
        "weighted_graph = Graph(4)\n",
        "\n",
        "# Add edges\n",
        "weighted_graph.add_edge(0, 1, weight=3)\n",
        "weighted_graph.add_edge(0, 2, weight=4)\n",
        "weighted_graph.add_edge(1, 3, weight=5)\n",
        "weighted_graph.add_edge(2, 3, weight=2)\n",
        "\n",
        "# Display the adjacency matrix\n",
        "print(\"Adjacency Matrix:\")\n",
        "weighted_graph.display()"
      ],
      "metadata": {
        "colab": {
          "base_uri": "https://localhost:8080/"
        },
        "id": "Y3l5CKElM_jK",
        "outputId": "5b9fb1b0-989a-4860-a699-0044960f7f3a"
      },
      "execution_count": 49,
      "outputs": [
        {
          "output_type": "stream",
          "name": "stdout",
          "text": [
            "Adjacency Matrix:\n",
            "[0, 3, 4, 0]\n",
            "[3, 0, 0, 5]\n",
            "[4, 0, 0, 2]\n",
            "[0, 5, 2, 0]\n"
          ]
        }
      ]
    },
    {
      "cell_type": "code",
      "source": [
        "class DirectedGraph:\n",
        "  def __init__(self, num_vertices):\n",
        "      # Initialize the graph with a specified number of vertices\n",
        "      self.num_vertices = num_vertices\n",
        "      # Create an adjacency matrix to represent the graph, initialized to all zeros\n",
        "      self.adj_matrix = [[0] * num_vertices for _ in range(num_vertices)]\n",
        "\n",
        "  def add_edge(self, from_vertex, to_vertex, weight=1):\n",
        "      # Add a directed edge from 'from_vertex' to 'to_vertex' with the specified weight\n",
        "      self.adj_matrix[from_vertex][to_vertex] = weight\n",
        "\n",
        "  def display(self):\n",
        "      # Display the adjacency matrix row by row\n",
        "      for row in self.adj_matrix:\n",
        "          print(row)"
      ],
      "metadata": {
        "id": "9bt0iFvCzEKv"
      },
      "execution_count": 50,
      "outputs": []
    },
    {
      "cell_type": "code",
      "source": [
        "# Create a weighted graph with 4 vertices (Nodes)\n",
        "unweighted_graph = DirectedGraph(4)\n",
        "\n",
        "# Add edges\n",
        "unweighted_graph.add_edge(0, 1)\n",
        "unweighted_graph.add_edge(1, 0)\n",
        "unweighted_graph.add_edge(1, 3)\n",
        "unweighted_graph.add_edge(3, 2)\n",
        "\n",
        "# Display the adjacency matrix\n",
        "print(\"Adjacency Matrix:\")\n",
        "unweighted_graph.display()"
      ],
      "metadata": {
        "colab": {
          "base_uri": "https://localhost:8080/"
        },
        "id": "VBimwjpvzI9O",
        "outputId": "eace27d8-27ed-49ca-9043-3127ccb039b9"
      },
      "execution_count": 51,
      "outputs": [
        {
          "output_type": "stream",
          "name": "stdout",
          "text": [
            "Adjacency Matrix:\n",
            "[0, 1, 0, 0]\n",
            "[1, 0, 0, 1]\n",
            "[0, 0, 0, 0]\n",
            "[0, 0, 1, 0]\n"
          ]
        }
      ]
    },
    {
      "cell_type": "code",
      "source": [
        "# Create a weighted graph with 4 vertices (Nodes)\n",
        "weighted_graph = DirectedGraph(4)\n",
        "\n",
        "# Add edges\n",
        "weighted_graph.add_edge(0, 1, weight=3)\n",
        "weighted_graph.add_edge(1, 0, weight=4)\n",
        "weighted_graph.add_edge(1, 3, weight=5)\n",
        "weighted_graph.add_edge(2, 3, weight=2)\n",
        "weighted_graph.add_edge(3, 2, weight=-1)\n",
        "\n",
        "# Display the adjacency matrix\n",
        "print(\"Adjacency Matrix:\")\n",
        "weighted_graph.display()"
      ],
      "metadata": {
        "colab": {
          "base_uri": "https://localhost:8080/"
        },
        "id": "bDbu-dQizIi3",
        "outputId": "50d60010-0bb1-439b-e9d1-7b8d09a51a3f"
      },
      "execution_count": 52,
      "outputs": [
        {
          "output_type": "stream",
          "name": "stdout",
          "text": [
            "Adjacency Matrix:\n",
            "[0, 3, 0, 0]\n",
            "[4, 0, 0, 5]\n",
            "[0, 0, 0, 2]\n",
            "[0, 0, -1, 0]\n"
          ]
        }
      ]
    },
    {
      "cell_type": "code",
      "source": [
        "def find_neighbors(matrix, node):\n",
        "  # Initialize an empty list to store the neighbors\n",
        "  neighbors = []\n",
        "  # Iterate over each value in the row corresponding to the given node\n",
        "  for i, val in enumerate(matrix[node]):\n",
        "      # If the value is not zero, it means there is an edge between 'node' and 'i'\n",
        "      if val != 0:\n",
        "          # Add the node 'i' to the neighbors list\n",
        "          neighbors.append(i)\n",
        "  # Return the list of neighbors\n",
        "  return neighbors\n",
        "\n",
        "# Create a graph with 4 vertices (Nodes)\n",
        "graph = Graph(4)\n",
        "\n",
        "# Add edges\n",
        "graph.add_edge(0, 1)\n",
        "graph.add_edge(0, 2)\n",
        "graph.add_edge(1, 3)\n",
        "graph.add_edge(2, 3)\n",
        "\n",
        "neighbors_of_1 = find_neighbors(graph.adj_matrix, 0)\n",
        "print(\"Neighbors of Node 0:\", neighbors_of_1)"
      ],
      "metadata": {
        "colab": {
          "base_uri": "https://localhost:8080/"
        },
        "id": "R59oYnHHAMoC",
        "outputId": "f3ce31cd-d608-459d-ddc8-be6e2c127a9c"
      },
      "execution_count": 53,
      "outputs": [
        {
          "output_type": "stream",
          "name": "stdout",
          "text": [
            "Neighbors of Node 0: [1, 2]\n"
          ]
        }
      ]
    },
    {
      "cell_type": "code",
      "source": [
        "import numpy as np\n",
        "\n",
        "# Create a graph with 3 vertices (Nodes)\n",
        "graph = Graph(3)\n",
        "\n",
        "# Add edges to the graph\n",
        "graph.add_edge(0, 1)\n",
        "graph.add_edge(1, 2)\n",
        "\n",
        "# Display the adjacency matrix of the graph\n",
        "print(\"Adjacency Matrix:\")\n",
        "graph.display()\n",
        "\n",
        "# Convert the adjacency matrix to a NumPy\n",
        "np_graph = np.array(graph.adj_matrix)\n",
        "# Compute the square of the adjacency matrix\n",
        "graph_squared = np.linalg.matrix_power(np_graph, 2)\n",
        "\n",
        "# Display the squared adjacency matrix\n",
        "print(\"\\nAdjacency Matrix Squared:\")\n",
        "print(graph_squared)"
      ],
      "metadata": {
        "colab": {
          "base_uri": "https://localhost:8080/"
        },
        "id": "QQpVd7w4EvUV",
        "outputId": "a61badd5-34c1-4483-e7c9-42522a15acea"
      },
      "execution_count": 54,
      "outputs": [
        {
          "output_type": "stream",
          "name": "stdout",
          "text": [
            "Adjacency Matrix:\n",
            "[0, 1, 0]\n",
            "[1, 0, 1]\n",
            "[0, 1, 0]\n",
            "\n",
            "Adjacency Matrix Squared:\n",
            "[[1 0 1]\n",
            " [0 2 0]\n",
            " [1 0 1]]\n"
          ]
        }
      ]
    },
    {
      "cell_type": "code",
      "source": [
        "def has_edge(matrix, from_vertex, to_vertex):\n",
        "  # Check if there is an edge between 'from_vertex' and 'to_vertex'\n",
        "  # If the value in the adjacency matrix is not 0, there is an edge\n",
        "  return matrix[from_vertex][to_vertex] != 0\n",
        "\n",
        "# Create a graph with 3 vertices (Nodes)\n",
        "graph = Graph(3)\n",
        "\n",
        "# Add edges to the graph\n",
        "graph.add_edge(0, 1)\n",
        "graph.add_edge(1, 2)\n",
        "\n",
        "# Check if there is an edge between vertex 0 and vertex 1\n",
        "edge_exists = has_edge(graph.adj_matrix, 0, 1)\n",
        "print(\"If there is any edge:\", edge_exists)"
      ],
      "metadata": {
        "colab": {
          "base_uri": "https://localhost:8080/"
        },
        "id": "BR_OUU0MJ7Hb",
        "outputId": "44393fc3-7c36-4e4c-e3b4-aaee5e4c5a27"
      },
      "execution_count": 55,
      "outputs": [
        {
          "output_type": "stream",
          "name": "stdout",
          "text": [
            "If there is any edge: True\n"
          ]
        }
      ]
    },
    {
      "cell_type": "code",
      "source": [
        "class Graph:\n",
        "  def __init__(self, num_vertices):\n",
        "      # Initialize the graph with a specified number of vertices\n",
        "      self.num_vertices = num_vertices\n",
        "      # Initialize the degree matrix with zeros\n",
        "      self.degree_matrix =  [[0] * num_vertices for _ in range(num_vertices)]\n",
        "\n",
        "  def add_edge(self, from_vertex, to_vertex, weight=1):\n",
        "      # Add an edge between 'from_vertex' and 'to_vertex'\n",
        "      self.degree_matrix[from_vertex][from_vertex] += weight\n",
        "      self.degree_matrix[to_vertex][to_vertex] += weight\n",
        "\n",
        "  def display(self):\n",
        "      # Display the degree matrix row by row\n",
        "      for row in self.degree_matrix:\n",
        "          print(row)"
      ],
      "metadata": {
        "id": "sLJt-DHExWSN"
      },
      "execution_count": 56,
      "outputs": []
    },
    {
      "cell_type": "code",
      "source": [
        "# Create an unweighted graph with 4 vertices (Nodes)\n",
        "unweighted_graph = Graph(4)\n",
        "\n",
        "# Add edges\n",
        "unweighted_graph.add_edge(0, 1)\n",
        "unweighted_graph.add_edge(0, 2)\n",
        "unweighted_graph.add_edge(0, 3)\n",
        "unweighted_graph.add_edge(1, 2)\n",
        "\n",
        "print(\"Degree Matrix:\")\n",
        "unweighted_graph.display()"
      ],
      "metadata": {
        "colab": {
          "base_uri": "https://localhost:8080/"
        },
        "id": "mZKcpupV2qgM",
        "outputId": "5d1532ba-0822-46c5-bb89-9fb4f08e6cbb"
      },
      "execution_count": 57,
      "outputs": [
        {
          "output_type": "stream",
          "name": "stdout",
          "text": [
            "Degree Matrix:\n",
            "[3, 0, 0, 0]\n",
            "[0, 2, 0, 0]\n",
            "[0, 0, 2, 0]\n",
            "[0, 0, 0, 1]\n"
          ]
        }
      ]
    },
    {
      "cell_type": "code",
      "source": [
        "# Create a weighted graph with 4 vertices (Nodes)\n",
        "weighted_graph = Graph(4)\n",
        "\n",
        "# Add edges\n",
        "weighted_graph.add_edge(0, 1, weight=2)\n",
        "weighted_graph.add_edge(0, 2, weight=3)\n",
        "weighted_graph.add_edge(0, 3, weight=3)\n",
        "weighted_graph.add_edge(1, 2, weight=4)\n",
        "\n",
        "print(\"Degree Matrix:\")\n",
        "weighted_graph.display()"
      ],
      "metadata": {
        "colab": {
          "base_uri": "https://localhost:8080/"
        },
        "id": "9GHG52rMvNm_",
        "outputId": "678a0ff9-f3b9-421d-bd3c-2f55af8f0581"
      },
      "execution_count": 58,
      "outputs": [
        {
          "output_type": "stream",
          "name": "stdout",
          "text": [
            "Degree Matrix:\n",
            "[8, 0, 0, 0]\n",
            "[0, 6, 0, 0]\n",
            "[0, 0, 7, 0]\n",
            "[0, 0, 0, 3]\n"
          ]
        }
      ]
    },
    {
      "cell_type": "code",
      "source": [
        "class DirectedGraph:\n",
        "  def __init__(self, num_vertices):\n",
        "      # Initialize the graph with a specified number of vertices\n",
        "      self.num_vertices = num_vertices\n",
        "      # Initialize the in-degree and out-degree matrices with zeros\n",
        "      self.in_degree_matrix = [[0] * num_vertices for _ in range(num_vertices)]\n",
        "      self.out_degree_matrix = [[0] * num_vertices for _ in range(num_vertices)]\n",
        "\n",
        "  def add_edge(self, from_vertex, to_vertex, weight=1):\n",
        "      # Add an edge from 'from_vertex' to 'to_vertex'\n",
        "      self.out_degree_matrix[from_vertex][from_vertex] += weight\n",
        "      self.in_degree_matrix[to_vertex][to_vertex] += weight\n",
        "\n",
        "  def display_in_degree_matrix(self):\n",
        "      # Display the in-degree matrix row by row\n",
        "      for row in self.in_degree_matrix:\n",
        "          print(row)\n",
        "\n",
        "  def display_out_degree_matrix(self):\n",
        "      # Display the out-degree matrix row by row\n",
        "      for row in self.out_degree_matrix:\n",
        "          print(row)"
      ],
      "metadata": {
        "id": "7MRxzuIE-Xsr"
      },
      "execution_count": 59,
      "outputs": []
    },
    {
      "cell_type": "code",
      "source": [
        "# Create an unweighted graph with 4 vertices (Nodes)\n",
        "unweighted_graph = DirectedGraph(4)\n",
        "\n",
        "# Add edges\n",
        "unweighted_graph.add_edge(0, 1)\n",
        "unweighted_graph.add_edge(0, 2)\n",
        "unweighted_graph.add_edge(0, 3)\n",
        "unweighted_graph.add_edge(2, 0)\n",
        "\n",
        "print(\"In-Degree Matrix:\")\n",
        "unweighted_graph.display_in_degree_matrix()\n",
        "print(\"Out-Degree Matrix:\")\n",
        "unweighted_graph.display_out_degree_matrix()"
      ],
      "metadata": {
        "colab": {
          "base_uri": "https://localhost:8080/"
        },
        "id": "DP9aJF_c-ZPJ",
        "outputId": "77986fd0-a3a6-425d-f2e0-f25f479edfc2"
      },
      "execution_count": 60,
      "outputs": [
        {
          "output_type": "stream",
          "name": "stdout",
          "text": [
            "In-Degree Matrix:\n",
            "[1, 0, 0, 0]\n",
            "[0, 1, 0, 0]\n",
            "[0, 0, 1, 0]\n",
            "[0, 0, 0, 1]\n",
            "Out-Degree Matrix:\n",
            "[3, 0, 0, 0]\n",
            "[0, 0, 0, 0]\n",
            "[0, 0, 1, 0]\n",
            "[0, 0, 0, 0]\n"
          ]
        }
      ]
    },
    {
      "cell_type": "code",
      "source": [
        "# Create a weighted graph with 4 vertices (Nodes)\n",
        "weighted_graph = DirectedGraph(4)\n",
        "\n",
        "# Add edges\n",
        "weighted_graph.add_edge(0, 1, weight=2)\n",
        "weighted_graph.add_edge(0, 2, weight=3)\n",
        "weighted_graph.add_edge(2, 0, weight=4)\n",
        "weighted_graph.add_edge(3, 1, weight=3)\n",
        "\n",
        "print(\"In-Degree Matrix:\")\n",
        "weighted_graph.display_in_degree_matrix()\n",
        "print(\"Out-Degree Matrix:\")\n",
        "weighted_graph.display_out_degree_matrix()"
      ],
      "metadata": {
        "colab": {
          "base_uri": "https://localhost:8080/"
        },
        "id": "UvAvtGx5vzfy",
        "outputId": "5d7be329-33c6-4f65-c728-3a33407d9bb9"
      },
      "execution_count": 61,
      "outputs": [
        {
          "output_type": "stream",
          "name": "stdout",
          "text": [
            "In-Degree Matrix:\n",
            "[4, 0, 0, 0]\n",
            "[0, 5, 0, 0]\n",
            "[0, 0, 3, 0]\n",
            "[0, 0, 0, 0]\n",
            "Out-Degree Matrix:\n",
            "[5, 0, 0, 0]\n",
            "[0, 0, 0, 0]\n",
            "[0, 0, 4, 0]\n",
            "[0, 0, 0, 3]\n"
          ]
        }
      ]
    },
    {
      "cell_type": "code",
      "source": [
        "class Graph:\n",
        "  def __init__(self, num_vertices):\n",
        "      # Initialize the graph with a specified number of vertices\n",
        "      self.num_vertices = num_vertices\n",
        "      # Initialize the incidence matrix as an empty list\n",
        "      self.incidence_matrix = [[] for _ in range(num_vertices)]\n",
        "      self.edges = []\n",
        "\n",
        "  def add_edge(self, from_vertex, to_vertex, weight=1):\n",
        "      # Add an edge between 'from_vertex' and 'to_vertex' with a specified weight\n",
        "      self.edges.append((from_vertex, to_vertex, weight))\n",
        "      # Extend the incidence matrix to add a new column for the new edge\n",
        "      for row in self.incidence_matrix:\n",
        "          row.append(0)\n",
        "      # Get the index of the new edge\n",
        "      edge_index = len(self.edges) - 1\n",
        "      # Update the incidence matrix\n",
        "      self.incidence_matrix[from_vertex][edge_index] = weight\n",
        "      self.incidence_matrix[to_vertex][edge_index] = weight\n",
        "\n",
        "  def display(self):\n",
        "      # Display the incidence matrix row by row\n",
        "      for row in self.incidence_matrix:\n",
        "          print(row)"
      ],
      "metadata": {
        "id": "JsNSTfsS2txf"
      },
      "execution_count": 62,
      "outputs": []
    },
    {
      "cell_type": "code",
      "source": [
        "# Create an unweighted graph with 4 vertices (Nodes)\n",
        "unweighted_graph = Graph(4)\n",
        "\n",
        "# Add edges\n",
        "unweighted_graph.add_edge(0, 1)\n",
        "unweighted_graph.add_edge(1, 2)\n",
        "unweighted_graph.add_edge(1, 3)\n",
        "unweighted_graph.add_edge(3, 1)\n",
        "unweighted_graph.add_edge(2, 3)\n",
        "\n",
        "print(\"Incidence Matrix:\")\n",
        "unweighted_graph.display()"
      ],
      "metadata": {
        "colab": {
          "base_uri": "https://localhost:8080/"
        },
        "id": "0r6_1-RsjarC",
        "outputId": "ba4748e2-f786-425c-f25a-925b410ca175"
      },
      "execution_count": 63,
      "outputs": [
        {
          "output_type": "stream",
          "name": "stdout",
          "text": [
            "Incidence Matrix:\n",
            "[1, 0, 0, 0, 0]\n",
            "[1, 1, 1, 1, 0]\n",
            "[0, 1, 0, 0, 1]\n",
            "[0, 0, 1, 1, 1]\n"
          ]
        }
      ]
    },
    {
      "cell_type": "code",
      "source": [
        "# Create a weighted graph with 4 vertices (Nodes)\n",
        "weighted_graph = Graph(4)\n",
        "\n",
        "# Add edges\n",
        "weighted_graph.add_edge(0, 1, weight=2)\n",
        "weighted_graph.add_edge(1, 2, weight=3)\n",
        "weighted_graph.add_edge(1, 3, weight=4)\n",
        "weighted_graph.add_edge(3, 1, weight=3)\n",
        "weighted_graph.add_edge(2, 3, weight=3)\n",
        "\n",
        "print(\"Incidence Matrix:\")\n",
        "weighted_graph.display()"
      ],
      "metadata": {
        "colab": {
          "base_uri": "https://localhost:8080/"
        },
        "id": "AlrYE5PRjFFp",
        "outputId": "66e5a913-0fdd-4fb0-801e-13320d78e014"
      },
      "execution_count": 64,
      "outputs": [
        {
          "output_type": "stream",
          "name": "stdout",
          "text": [
            "Incidence Matrix:\n",
            "[2, 0, 0, 0, 0]\n",
            "[2, 3, 4, 3, 0]\n",
            "[0, 3, 0, 0, 3]\n",
            "[0, 0, 4, 3, 3]\n"
          ]
        }
      ]
    },
    {
      "cell_type": "code",
      "source": [
        "class DirectedGraph:\n",
        "  def __init__(self, num_vertices):\n",
        "      # Initialize the graph with a specified number of vertices\n",
        "      self.num_vertices = num_vertices\n",
        "      # Initialize the incidence matrix as an empty list\n",
        "      self.incidence_matrix = [[] for _ in range(num_vertices)]\n",
        "      self.edges = []\n",
        "\n",
        "  def add_edge(self, from_vertex, to_vertex, weight=1):\n",
        "      # Add an edge between 'from_vertex' and 'to_vertex' with a specified weight\n",
        "      self.edges.append((from_vertex, to_vertex, weight))\n",
        "      # Extend the incidence matrix to add a new column for the new edge\n",
        "      for row in self.incidence_matrix:\n",
        "          row.append(0)\n",
        "      # Get the index of the new edge\n",
        "      edge_index = len(self.edges) - 1\n",
        "      # Update the incidence matrix\n",
        "      self.incidence_matrix[from_vertex][edge_index] = -weight  # -weight for the source node\n",
        "      self.incidence_matrix[to_vertex][edge_index] = weight     # weight for the target node\n",
        "\n",
        "  def display(self):\n",
        "      # Display the incidence matrix row by row\n",
        "      for row in self.incidence_matrix:\n",
        "          print(row)"
      ],
      "metadata": {
        "id": "LNACX8On2YPO"
      },
      "execution_count": 65,
      "outputs": []
    },
    {
      "cell_type": "code",
      "source": [
        "# Create an unweighted graph with 4 vertices (Nodes)\n",
        "unweighted_graph = DirectedGraph(4)\n",
        "\n",
        "# Add edges\n",
        "unweighted_graph.add_edge(0, 1)\n",
        "unweighted_graph.add_edge(1, 2)\n",
        "unweighted_graph.add_edge(1, 3)\n",
        "unweighted_graph.add_edge(3, 1)\n",
        "unweighted_graph.add_edge(2, 3)\n",
        "\n",
        "print(\"Incidence Matrix:\")\n",
        "unweighted_graph.display()"
      ],
      "metadata": {
        "colab": {
          "base_uri": "https://localhost:8080/"
        },
        "id": "Jzms8bT52iJi",
        "outputId": "09505597-db1f-4e79-822b-157318b58c0d"
      },
      "execution_count": 66,
      "outputs": [
        {
          "output_type": "stream",
          "name": "stdout",
          "text": [
            "Incidence Matrix:\n",
            "[-1, 0, 0, 0, 0]\n",
            "[1, -1, -1, 1, 0]\n",
            "[0, 1, 0, 0, -1]\n",
            "[0, 0, 1, -1, 1]\n"
          ]
        }
      ]
    },
    {
      "cell_type": "code",
      "source": [
        "# Create a weighted graph with 4 vertices (Nodes)\n",
        "weighted_graph = DirectedGraph(4)\n",
        "\n",
        "# Add edges\n",
        "weighted_graph.add_edge(0, 1, weight=2)\n",
        "weighted_graph.add_edge(1, 2, weight=3)\n",
        "weighted_graph.add_edge(1, 3, weight=4)\n",
        "weighted_graph.add_edge(3, 1, weight=2)\n",
        "weighted_graph.add_edge(2, 3, weight=3)\n",
        "\n",
        "print(\"Incidence Matrix:\")\n",
        "weighted_graph.display()"
      ],
      "metadata": {
        "colab": {
          "base_uri": "https://localhost:8080/"
        },
        "id": "Dxt3kdTO2iUR",
        "outputId": "02466eb7-d1ee-40b4-bd3d-213017ef1e49"
      },
      "execution_count": 67,
      "outputs": [
        {
          "output_type": "stream",
          "name": "stdout",
          "text": [
            "Incidence Matrix:\n",
            "[-2, 0, 0, 0, 0]\n",
            "[2, -3, -4, 2, 0]\n",
            "[0, 3, 0, 0, -3]\n",
            "[0, 0, 4, -2, 3]\n"
          ]
        }
      ]
    },
    {
      "cell_type": "code",
      "source": [
        "def calculate_degrees(matrix):\n",
        "  # Calculate degrees of each vertex by summing absolute values in each row\n",
        "  degrees = [sum(abs(x) for x in row) for row in matrix]\n",
        "  return degrees\n",
        "\n",
        "# Create a graph with 4 vertices (Nodes)\n",
        "graph = Graph(4)\n",
        "\n",
        "# Add edges\n",
        "graph.add_edge(0, 1)\n",
        "graph.add_edge(0, 2)\n",
        "graph.add_edge(1, 2)\n",
        "graph.add_edge(2, 3)\n",
        "\n",
        "print(\"Incidence Matrix:\")\n",
        "graph.display()\n",
        "\n",
        "degrees = calculate_degrees(graph.incidence_matrix)\n",
        "print(\"\\nDegrees of vertices:\", degrees)"
      ],
      "metadata": {
        "colab": {
          "base_uri": "https://localhost:8080/"
        },
        "id": "eghoSH-CHk3x",
        "outputId": "192ac5bf-da05-4e62-ae33-e0986dcad69a"
      },
      "execution_count": 68,
      "outputs": [
        {
          "output_type": "stream",
          "name": "stdout",
          "text": [
            "Incidence Matrix:\n",
            "[1, 1, 0, 0]\n",
            "[1, 0, 1, 0]\n",
            "[0, 1, 1, 1]\n",
            "[0, 0, 0, 1]\n",
            "\n",
            "Degrees of vertices: [2, 2, 3, 1]\n"
          ]
        }
      ]
    },
    {
      "cell_type": "code",
      "source": [
        "def calculate_degrees(matrix):\n",
        "  # Calculate in-degrees by summing positive values in each row\n",
        "  in_degrees = [sum(x for x in row if x > 0) for row in matrix]\n",
        "  # Calculate out-degrees by summing absolute values of negative values in each row\n",
        "  out_degrees = [sum(-x for x in row if x < 0) for row in matrix]\n",
        "  return in_degrees, out_degrees\n",
        "\n",
        "# Create a graph with 4 vertices (Nodes)\n",
        "graph = DirectedGraph(4)\n",
        "\n",
        "# Add edges\n",
        "graph.add_edge(0, 1)\n",
        "graph.add_edge(0, 2)\n",
        "graph.add_edge(1, 2)\n",
        "graph.add_edge(2, 3)\n",
        "\n",
        "print(\"Incidence Matrix:\")\n",
        "graph.display()\n",
        "\n",
        "degrees = calculate_degrees(graph.incidence_matrix)\n",
        "print(\"\\nDegrees of vertices:\", degrees)"
      ],
      "metadata": {
        "colab": {
          "base_uri": "https://localhost:8080/"
        },
        "id": "iUGRW-qmLZe1",
        "outputId": "00401a21-bff6-4874-d8d3-0683bc3e0d96"
      },
      "execution_count": 69,
      "outputs": [
        {
          "output_type": "stream",
          "name": "stdout",
          "text": [
            "Incidence Matrix:\n",
            "[-1, -1, 0, 0]\n",
            "[1, 0, -1, 0]\n",
            "[0, 1, 1, -1]\n",
            "[0, 0, 0, 1]\n",
            "\n",
            "Degrees of vertices: ([0, 1, 2, 1], [2, 1, 1, 0])\n"
          ]
        }
      ]
    },
    {
      "cell_type": "code",
      "source": [
        "def get_edges(incidence_matrix):\n",
        "  # An empty list to store edges\n",
        "  edges = []\n",
        "  # Get the number of edges\n",
        "  num_edges = len(incidence_matrix[0])\n",
        "  # Get the number of vertices\n",
        "  num_vertices = len(incidence_matrix)\n",
        "\n",
        "  for j in range(num_edges):\n",
        "      # An empty list to store vertices\n",
        "      vertices = []\n",
        "      # Iterate over each vertex\n",
        "      for i in range(num_vertices):\n",
        "          # Check if the vertex is connected by the edge\n",
        "          if incidence_matrix[i][j] > 0:\n",
        "              vertices.append(i)\n",
        "      # If two vertices are connected by the edge, add the edge to the list\n",
        "      if len(vertices) == 2:\n",
        "          edges.append((vertices[0], vertices[1]))\n",
        "  return edges\n",
        "\n",
        "# Create a graph with 4 vertices (Nodes)\n",
        "graph = Graph(4)\n",
        "\n",
        "# Add edges\n",
        "graph.add_edge(0, 1)\n",
        "graph.add_edge(0, 2)\n",
        "graph.add_edge(1, 2)\n",
        "graph.add_edge(2, 3)\n",
        "graph.add_edge(1, 3)\n",
        "\n",
        "print(\"Incidence Matrix:\")\n",
        "graph.display()\n",
        "\n",
        "edges = get_edges(graph.incidence_matrix)\n",
        "print(\"\\nEdges in the graph:\", edges)"
      ],
      "metadata": {
        "colab": {
          "base_uri": "https://localhost:8080/"
        },
        "id": "Ya1OyNR-SFM3",
        "outputId": "c1222160-9a59-4f7a-9111-6ddcc32a6ffe"
      },
      "execution_count": 70,
      "outputs": [
        {
          "output_type": "stream",
          "name": "stdout",
          "text": [
            "Incidence Matrix:\n",
            "[1, 1, 0, 0, 0]\n",
            "[1, 0, 1, 0, 1]\n",
            "[0, 1, 1, 1, 0]\n",
            "[0, 0, 0, 1, 1]\n",
            "\n",
            "Edges in the graph: [(0, 1), (0, 2), (1, 2), (2, 3), (1, 3)]\n"
          ]
        }
      ]
    },
    {
      "cell_type": "code",
      "source": [
        "class GraphNode:\n",
        "    def __init__(self, vertex, weight=None):\n",
        "        # Initialize a graph node with the given vertex and optional weight\n",
        "        self.vertex = vertex\n",
        "        self.weight = weight\n",
        "        self.next = None\n",
        "\n",
        "class Graph:\n",
        "  def __init__(self, num_vertices):\n",
        "      # Initialize the graph with a specified number of vertices\n",
        "      self.V = num_vertices\n",
        "      # Create an adjacency list with None values for each vertex\n",
        "      self.adj_list = [None] * num_vertices\n",
        "      # Initialize a flag to check if the graph is weighted\n",
        "      self.weighted = False\n",
        "\n",
        "  def add_edge(self, v1, v2, weight=None):\n",
        "      # Add an edge between 'v1' and 'v2' with an optional weight\n",
        "      if weight is not None:\n",
        "          self.weighted = True\n",
        "          new_node = GraphNode(v2, weight)\n",
        "      else:\n",
        "          new_node = GraphNode(v2)\n",
        "      # Add the new node to the adjacency list of 'v1'\n",
        "      new_node.next = self.adj_list[v1]\n",
        "      self.adj_list[v1] = new_node\n",
        "\n",
        "      # Repeat the process for 'v2' to ensure undirected behavior\n",
        "      if weight is not None:\n",
        "          new_node = GraphNode(v1, weight)\n",
        "      else:\n",
        "          new_node = GraphNode(v1)\n",
        "      # Add the new node to the adjacency list of 'v2'\n",
        "      new_node.next = self.adj_list[v2]\n",
        "      self.adj_list[v2] = new_node\n",
        "\n",
        "  def display(self):\n",
        "      # Display the adjacency list of the graph\n",
        "      for i in range(self.V):\n",
        "          print(f\"Vertex {i}:\", end=\"\")\n",
        "          temp = self.adj_list[i]\n",
        "          while temp:\n",
        "              # Print the vertex and weight if the graph is weighted\n",
        "              if self.weighted and temp.weight is not None:\n",
        "                  print(f\" -> ({temp.vertex}, {temp.weight})\", end=\"\")\n",
        "              else:\n",
        "                  print(f\" -> {temp.vertex}\", end=\"\")\n",
        "              temp = temp.next\n",
        "          print()"
      ],
      "metadata": {
        "id": "67PwwbUUQF5O"
      },
      "execution_count": 71,
      "outputs": []
    },
    {
      "cell_type": "code",
      "source": [
        "# Create an unweighted graph\n",
        "unweighted_graph = Graph(num_vertices=4)\n",
        "\n",
        "# Add edges\n",
        "unweighted_graph.add_edge(0, 1)\n",
        "unweighted_graph.add_edge(1, 2)\n",
        "unweighted_graph.add_edge(1, 3)\n",
        "unweighted_graph.add_edge(2, 3)\n",
        "\n",
        "print(\"Adjacency list:\")\n",
        "unweighted_graph.display()"
      ],
      "metadata": {
        "colab": {
          "base_uri": "https://localhost:8080/"
        },
        "id": "Rc84QsbiVDvQ",
        "outputId": "aec3bcfe-2e48-4b38-9447-f26c7da4772e"
      },
      "execution_count": 72,
      "outputs": [
        {
          "output_type": "stream",
          "name": "stdout",
          "text": [
            "Adjacency list:\n",
            "Vertex 0: -> 1\n",
            "Vertex 1: -> 3 -> 2 -> 0\n",
            "Vertex 2: -> 3 -> 1\n",
            "Vertex 3: -> 2 -> 1\n"
          ]
        }
      ]
    },
    {
      "cell_type": "code",
      "source": [
        "# Create a weighted graph\n",
        "graph = Graph(num_vertices=4)\n",
        "\n",
        "# Add edges\n",
        "graph.add_edge(0, 1, 2)\n",
        "graph.add_edge(1, 2, 4)\n",
        "graph.add_edge(1, 3, 3)\n",
        "graph.add_edge(2, 3, 5)\n",
        "\n",
        "print(\"Adjacency list:\")\n",
        "graph.display()"
      ],
      "metadata": {
        "colab": {
          "base_uri": "https://localhost:8080/"
        },
        "id": "Ton46gBqVWlh",
        "outputId": "8854f249-2250-4738-f991-cb2dc62f0817"
      },
      "execution_count": 74,
      "outputs": [
        {
          "output_type": "stream",
          "name": "stdout",
          "text": [
            "Adjacency list:\n",
            "Vertex 0: -> (1, 2)\n",
            "Vertex 1: -> (3, 3) -> (2, 4) -> (0, 2)\n",
            "Vertex 2: -> (3, 5) -> (1, 4)\n",
            "Vertex 3: -> (2, 5) -> (1, 3)\n"
          ]
        }
      ]
    },
    {
      "cell_type": "code",
      "source": [
        "class GraphNode:\n",
        "    def __init__(self, vertex, weight=None):\n",
        "        # Initialize a graph node with the given vertex and optional weight\n",
        "        self.vertex = vertex\n",
        "        self.weight = weight\n",
        "        self.next = None\n",
        "\n",
        "class DirectedGraph:\n",
        "    def __init__(self, num_vertices):\n",
        "        # Initialize the graph with a specified number of vertices\n",
        "        self.V = num_vertices\n",
        "        # Create an adjacency list with None values for each vertex\n",
        "        self.adj_list = [None] * num_vertices\n",
        "        # Initialize a flag to check if the graph is weighted\n",
        "        self.weighted = False\n",
        "\n",
        "    def add_edge(self, v1, v2, weight=None):\n",
        "        # Add an edge from 'v1' to 'v2' with an optional weight\n",
        "        if weight is not None:\n",
        "            self.weighted = True\n",
        "            new_node = GraphNode(v2, weight)\n",
        "        else:\n",
        "            new_node = GraphNode(v2)\n",
        "\n",
        "        # Add the new node to the adjacency list of 'v1'\n",
        "        new_node.next = self.adj_list[v1]\n",
        "        self.adj_list[v1] = new_node\n",
        "\n",
        "    def display(self):\n",
        "        # Display the adjacency list of the graph\n",
        "        for i in range(self.V):\n",
        "            print(f\"Vertex {i}:\", end=\"\")\n",
        "            temp = self.adj_list[i]\n",
        "            while temp:\n",
        "                # Print the vertex and weight if the graph is weighted\n",
        "                if self.weighted and temp.weight is not None:\n",
        "                    print(f\" -> ({temp.vertex}, {temp.weight})\", end=\"\")\n",
        "                else:\n",
        "                    print(f\" -> {temp.vertex}\", end=\"\")\n",
        "                temp = temp.next\n",
        "            print()"
      ],
      "metadata": {
        "id": "9KOrDCwLV6gu"
      },
      "execution_count": 75,
      "outputs": []
    },
    {
      "cell_type": "code",
      "source": [
        "# Create an unweighted graph\n",
        "unweighted_graph = DirectedGraph(num_vertices=4)\n",
        "\n",
        "# Add edges\n",
        "unweighted_graph.add_edge(0, 1)\n",
        "unweighted_graph.add_edge(1, 2)\n",
        "unweighted_graph.add_edge(1, 3)\n",
        "unweighted_graph.add_edge(2, 3)\n",
        "\n",
        "print(\"Unweighted directed graph adjacency list:\")\n",
        "unweighted_graph.display()"
      ],
      "metadata": {
        "colab": {
          "base_uri": "https://localhost:8080/"
        },
        "id": "KXgP-O35WNMp",
        "outputId": "1e46bd34-268f-4eff-a8fc-5241c4da11df"
      },
      "execution_count": 76,
      "outputs": [
        {
          "output_type": "stream",
          "name": "stdout",
          "text": [
            "Unweighted directed graph adjacency list:\n",
            "Vertex 0: -> 1\n",
            "Vertex 1: -> 3 -> 2\n",
            "Vertex 2: -> 3\n",
            "Vertex 3:\n"
          ]
        }
      ]
    },
    {
      "cell_type": "code",
      "source": [
        "# Create a weighted graph\n",
        "graph = DirectedGraph(num_vertices=4)\n",
        "\n",
        "# Add edges\n",
        "graph.add_edge(0, 1, 10)\n",
        "graph.add_edge(1, 2, 30)\n",
        "graph.add_edge(1, 3, 40)\n",
        "graph.add_edge(2, 3, 60)\n",
        "\n",
        "print(\"Adjacency list:\")\n",
        "graph.display()"
      ],
      "metadata": {
        "colab": {
          "base_uri": "https://localhost:8080/"
        },
        "id": "XBPE7o1_VjLK",
        "outputId": "a88064c5-4d47-4460-d0c8-c6ac3fd6dfeb"
      },
      "execution_count": 78,
      "outputs": [
        {
          "output_type": "stream",
          "name": "stdout",
          "text": [
            "Adjacency list:\n",
            "Vertex 0: -> (1, 10)\n",
            "Vertex 1: -> (3, 40) -> (2, 30)\n",
            "Vertex 2: -> (3, 60)\n",
            "Vertex 3:\n"
          ]
        }
      ]
    },
    {
      "cell_type": "code",
      "source": [
        "def has_edge(adj_list, v1, v2):\n",
        "  # Adjacency list of vertex v1\n",
        "  current = adj_list[v1]\n",
        "  # Traverse the adjacency list\n",
        "  while current is not None:\n",
        "    # Check if the current vertex is v2\n",
        "    if current.vertex == v2:\n",
        "        return True\n",
        "    # Move to the next vertex in the adjacency list\n",
        "    current = current.next\n",
        "  return False\n",
        "\n",
        "# Create a graph\n",
        "graph = Graph(num_vertices=4)\n",
        "\n",
        "# Add edges\n",
        "graph.add_edge(0, 1)\n",
        "graph.add_edge(1, 2)\n",
        "graph.add_edge(1, 3)\n",
        "graph.add_edge(2, 3)\n",
        "\n",
        "print(\"Adjacency list:\")\n",
        "graph.display()\n",
        "\n",
        "# Check if there is an edge between vertices 1 and 2\n",
        "if has_edge(graph.adj_list, 1, 2):\n",
        "    print(\"There is an edge between vertices 1 and 2.\")\n",
        "else:\n",
        "    print(\"There is no edge between vertices 1 and 2.\")"
      ],
      "metadata": {
        "colab": {
          "base_uri": "https://localhost:8080/"
        },
        "id": "7wQYBBVk3evg",
        "outputId": "e5ce6702-6cbd-463e-82bd-9db2aacc6d34"
      },
      "execution_count": 79,
      "outputs": [
        {
          "output_type": "stream",
          "name": "stdout",
          "text": [
            "Adjacency list:\n",
            "Vertex 0: -> 1\n",
            "Vertex 1: -> 3 -> 2 -> 0\n",
            "Vertex 2: -> 3 -> 1\n",
            "Vertex 3: -> 2 -> 1\n",
            "There is an edge between vertices 1 and 2.\n"
          ]
        }
      ]
    },
    {
      "cell_type": "code",
      "source": [
        "def get_neighbors(adj_list, v):\n",
        "  # An empty list to store neighbors\n",
        "  neighbors = []\n",
        "  # Adjacency list of vertex v\n",
        "  current = adj_list[v]\n",
        "  # Traverse the adjacency list\n",
        "  while current is not None:\n",
        "    # Add the current vertex to the neighbors list\n",
        "    neighbors.append(current.vertex)\n",
        "    #  Move to the next vertex in the adjacency list\n",
        "    current = current.next\n",
        "  return neighbors\n",
        "\n",
        "# Create a graph\n",
        "graph = Graph(num_vertices=4)\n",
        "\n",
        "# Add edges\n",
        "graph.add_edge(0, 1)\n",
        "graph.add_edge(1, 2)\n",
        "graph.add_edge(1, 3)\n",
        "graph.add_edge(2, 3)\n",
        "\n",
        "print(\"Adjacency list:\")\n",
        "graph.display()\n",
        "\n",
        "# Get the neighbors of vertex 1\n",
        "neighbors = get_neighbors(graph.adj_list, 1)\n",
        "print(\"Neighbors of vertex 1:\", neighbors)"
      ],
      "metadata": {
        "colab": {
          "base_uri": "https://localhost:8080/"
        },
        "id": "WUQ9GLt9_FBe",
        "outputId": "fc9375a9-6003-4179-a4df-c6f8ab27609d"
      },
      "execution_count": 81,
      "outputs": [
        {
          "output_type": "stream",
          "name": "stdout",
          "text": [
            "Adjacency list:\n",
            "Vertex 0: -> 1\n",
            "Vertex 1: -> 3 -> 2 -> 0\n",
            "Vertex 2: -> 3 -> 1\n",
            "Vertex 3: -> 2 -> 1\n",
            "Neighbors of vertex 1: [3, 2, 0]\n"
          ]
        }
      ]
    }
  ]
}