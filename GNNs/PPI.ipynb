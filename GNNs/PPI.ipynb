{
  "cells": [
    {
      "cell_type": "code",
      "source": [
        "!pip install torch-geometric"
      ],
      "metadata": {
        "colab": {
          "base_uri": "https://localhost:8080/"
        },
        "id": "Wi2ZeQ_QucOr",
        "outputId": "b2cd346a-dc3e-4f7e-c0bf-87ca6b2eea4b"
      },
      "execution_count": 1,
      "outputs": [
        {
          "output_type": "stream",
          "name": "stdout",
          "text": [
            "Collecting torch-geometric\n",
            "  Downloading torch_geometric-2.5.3-py3-none-any.whl.metadata (64 kB)\n",
            "\u001b[?25l     \u001b[90m━━━━━━━━━━━━━━━━━━━━━━━━━━━━━━━━━━━━━━━━\u001b[0m \u001b[32m0.0/64.2 kB\u001b[0m \u001b[31m?\u001b[0m eta \u001b[36m-:--:--\u001b[0m\r\u001b[2K     \u001b[90m━━━━━━━━━━━━━━━━━━━━━━━━━━━━━━━━━━━━━━━━\u001b[0m \u001b[32m64.2/64.2 kB\u001b[0m \u001b[31m3.2 MB/s\u001b[0m eta \u001b[36m0:00:00\u001b[0m\n",
            "\u001b[?25hRequirement already satisfied: tqdm in /usr/local/lib/python3.10/dist-packages (from torch-geometric) (4.66.5)\n",
            "Requirement already satisfied: numpy in /usr/local/lib/python3.10/dist-packages (from torch-geometric) (1.26.4)\n",
            "Requirement already satisfied: scipy in /usr/local/lib/python3.10/dist-packages (from torch-geometric) (1.13.1)\n",
            "Requirement already satisfied: fsspec in /usr/local/lib/python3.10/dist-packages (from torch-geometric) (2024.6.1)\n",
            "Requirement already satisfied: jinja2 in /usr/local/lib/python3.10/dist-packages (from torch-geometric) (3.1.4)\n",
            "Requirement already satisfied: aiohttp in /usr/local/lib/python3.10/dist-packages (from torch-geometric) (3.10.3)\n",
            "Requirement already satisfied: requests in /usr/local/lib/python3.10/dist-packages (from torch-geometric) (2.32.3)\n",
            "Requirement already satisfied: pyparsing in /usr/local/lib/python3.10/dist-packages (from torch-geometric) (3.1.2)\n",
            "Requirement already satisfied: scikit-learn in /usr/local/lib/python3.10/dist-packages (from torch-geometric) (1.3.2)\n",
            "Requirement already satisfied: psutil>=5.8.0 in /usr/local/lib/python3.10/dist-packages (from torch-geometric) (5.9.5)\n",
            "Requirement already satisfied: aiohappyeyeballs>=2.3.0 in /usr/local/lib/python3.10/dist-packages (from aiohttp->torch-geometric) (2.3.5)\n",
            "Requirement already satisfied: aiosignal>=1.1.2 in /usr/local/lib/python3.10/dist-packages (from aiohttp->torch-geometric) (1.3.1)\n",
            "Requirement already satisfied: attrs>=17.3.0 in /usr/local/lib/python3.10/dist-packages (from aiohttp->torch-geometric) (24.2.0)\n",
            "Requirement already satisfied: frozenlist>=1.1.1 in /usr/local/lib/python3.10/dist-packages (from aiohttp->torch-geometric) (1.4.1)\n",
            "Requirement already satisfied: multidict<7.0,>=4.5 in /usr/local/lib/python3.10/dist-packages (from aiohttp->torch-geometric) (6.0.5)\n",
            "Requirement already satisfied: yarl<2.0,>=1.0 in /usr/local/lib/python3.10/dist-packages (from aiohttp->torch-geometric) (1.9.4)\n",
            "Requirement already satisfied: async-timeout<5.0,>=4.0 in /usr/local/lib/python3.10/dist-packages (from aiohttp->torch-geometric) (4.0.3)\n",
            "Requirement already satisfied: MarkupSafe>=2.0 in /usr/local/lib/python3.10/dist-packages (from jinja2->torch-geometric) (2.1.5)\n",
            "Requirement already satisfied: charset-normalizer<4,>=2 in /usr/local/lib/python3.10/dist-packages (from requests->torch-geometric) (3.3.2)\n",
            "Requirement already satisfied: idna<4,>=2.5 in /usr/local/lib/python3.10/dist-packages (from requests->torch-geometric) (3.7)\n",
            "Requirement already satisfied: urllib3<3,>=1.21.1 in /usr/local/lib/python3.10/dist-packages (from requests->torch-geometric) (2.0.7)\n",
            "Requirement already satisfied: certifi>=2017.4.17 in /usr/local/lib/python3.10/dist-packages (from requests->torch-geometric) (2024.7.4)\n",
            "Requirement already satisfied: joblib>=1.1.1 in /usr/local/lib/python3.10/dist-packages (from scikit-learn->torch-geometric) (1.4.2)\n",
            "Requirement already satisfied: threadpoolctl>=2.0.0 in /usr/local/lib/python3.10/dist-packages (from scikit-learn->torch-geometric) (3.5.0)\n",
            "Downloading torch_geometric-2.5.3-py3-none-any.whl (1.1 MB)\n",
            "\u001b[2K   \u001b[90m━━━━━━━━━━━━━━━━━━━━━━━━━━━━━━━━━━━━━━━━\u001b[0m \u001b[32m1.1/1.1 MB\u001b[0m \u001b[31m21.9 MB/s\u001b[0m eta \u001b[36m0:00:00\u001b[0m\n",
            "\u001b[?25hInstalling collected packages: torch-geometric\n",
            "Successfully installed torch-geometric-2.5.3\n"
          ]
        }
      ]
    },
    {
      "cell_type": "code",
      "source": [
        "import torch\n",
        "import torch.nn as nn\n",
        "import matplotlib.pyplot as plt\n",
        "from torch_geometric.nn import GCNConv\n",
        "from torch_geometric.datasets import PPI\n",
        "from torch_geometric.loader import DataLoader"
      ],
      "metadata": {
        "id": "EBdCNz28rZeN"
      },
      "execution_count": 68,
      "outputs": []
    },
    {
      "cell_type": "code",
      "source": [
        "# Load the PPI dataset\n",
        "train_dataset = PPI(root='/tmp/PPI', split='train')\n",
        "val_dataset = PPI(root='/tmp/PPI', split='val')\n",
        "test_dataset = PPI(root='/tmp/PPI', split='test')\n",
        "\n",
        "# Create data loaders\n",
        "train_loader = DataLoader(train_dataset, batch_size=2, shuffle=True)\n",
        "val_loader = DataLoader(val_dataset, batch_size=2, shuffle=False)\n",
        "test_loader = DataLoader(test_dataset, batch_size=2, shuffle=False)"
      ],
      "metadata": {
        "id": "R4mOiqSn4heX"
      },
      "execution_count": 23,
      "outputs": []
    },
    {
      "cell_type": "code",
      "source": [
        "class PPIModel(nn.Module):\n",
        "  def __init__(self, input_channels, hidden_channels, output_channels):\n",
        "      super(PPIModel, self).__init__()\n",
        "      self.conv1 = GCNConv(input_channels, hidden_channels)\n",
        "      self.relu1 = nn.ReLU()\n",
        "      self.dropout1 = nn.Dropout(0.5)\n",
        "      self.conv2 = GCNConv(hidden_channels, hidden_channels)\n",
        "      self.relu2 = nn.ReLU()\n",
        "      self.dropout2 = nn.Dropout(0.4)\n",
        "      self.linear = nn.Linear(hidden_channels, output_channels)\n",
        "\n",
        "  def forward(self, data):\n",
        "      x, edge_index = data.x, data.edge_index\n",
        "      x = self.conv1(x, edge_index)\n",
        "      x = self.relu1(x)\n",
        "      x = self.dropout1(x)\n",
        "      x = self.conv2(x, edge_index)\n",
        "      x = self.relu2(x)\n",
        "      x = self.dropout2(x)\n",
        "      x = self.linear(x)\n",
        "      return x"
      ],
      "metadata": {
        "id": "2u4vp_JK4sRW"
      },
      "execution_count": 132,
      "outputs": []
    },
    {
      "cell_type": "code",
      "source": [
        "ppi_model = PPIModel(input_channels=train_dataset.num_features, hidden_channels=64, output_channels=train_dataset.num_classes)\n",
        "optim = torch.optim.Adam(ppi_model.parameters(), lr=0.01)\n",
        "criterion = nn.BCEWithLogitsLoss()"
      ],
      "metadata": {
        "id": "YWW2Z_sMzKtC"
      },
      "execution_count": 133,
      "outputs": []
    },
    {
      "cell_type": "code",
      "source": [
        "def train(model, loader, optim, criterion):\n",
        "    model.train()\n",
        "    total_loss = 0\n",
        "    for data in loader:\n",
        "      optim.zero_grad()\n",
        "      out = model(data)\n",
        "      loss = criterion(out, data.y)\n",
        "      loss.backward()\n",
        "      optim.step()\n",
        "      total_loss += loss.item()\n",
        "    return total_loss/len(loader)\n",
        "\n",
        "def evaluate(model, loader, criterion):\n",
        "    model.eval()\n",
        "    total_loss = 0\n",
        "    with torch.no_grad():\n",
        "      for data in loader:\n",
        "        out = model(data)\n",
        "        loss = criterion(out, data.y)\n",
        "        total_loss += loss.item()\n",
        "    return total_loss/len(loader)"
      ],
      "metadata": {
        "id": "SWdgqd5szjwJ"
      },
      "execution_count": 134,
      "outputs": []
    },
    {
      "cell_type": "code",
      "source": [
        "train_losses = []\n",
        "val_losses = []\n",
        "for epoch in range(300):\n",
        "  train_loss = train(ppi_model, train_loader, optim, criterion)\n",
        "  val_loss = evaluate(ppi_model, val_loader, criterion)\n",
        "\n",
        "  if epoch % 10 == 0:\n",
        "    print(f'Epoch {epoch+1}, Train Loss: {train_loss:.4f}, Val Loss: {val_loss:.4f}')\n",
        "\n",
        "  train_losses.append(train_loss)\n",
        "  val_losses.append(val_loss)"
      ],
      "metadata": {
        "colab": {
          "base_uri": "https://localhost:8080/"
        },
        "id": "7V1mXgTl4Rvo",
        "outputId": "d551c3f5-9309-4b11-b0bd-8e61a5f8f298"
      },
      "execution_count": 135,
      "outputs": [
        {
          "output_type": "stream",
          "name": "stdout",
          "text": [
            "Epoch 1, Train Loss: 0.6301, Val Loss: 0.5666\n",
            "Epoch 11, Train Loss: 0.5057, Val Loss: 0.4878\n",
            "Epoch 21, Train Loss: 0.4969, Val Loss: 0.4776\n",
            "Epoch 31, Train Loss: 0.4904, Val Loss: 0.4713\n",
            "Epoch 41, Train Loss: 0.4869, Val Loss: 0.4656\n",
            "Epoch 51, Train Loss: 0.4865, Val Loss: 0.4658\n",
            "Epoch 61, Train Loss: 0.4805, Val Loss: 0.4612\n",
            "Epoch 71, Train Loss: 0.4825, Val Loss: 0.4602\n",
            "Epoch 81, Train Loss: 0.4787, Val Loss: 0.4582\n",
            "Epoch 91, Train Loss: 0.4789, Val Loss: 0.4575\n",
            "Epoch 101, Train Loss: 0.4783, Val Loss: 0.4570\n",
            "Epoch 111, Train Loss: 0.4766, Val Loss: 0.4559\n",
            "Epoch 121, Train Loss: 0.4747, Val Loss: 0.4549\n",
            "Epoch 131, Train Loss: 0.4763, Val Loss: 0.4535\n",
            "Epoch 141, Train Loss: 0.4749, Val Loss: 0.4529\n",
            "Epoch 151, Train Loss: 0.4740, Val Loss: 0.4525\n",
            "Epoch 161, Train Loss: 0.4735, Val Loss: 0.4500\n",
            "Epoch 171, Train Loss: 0.4730, Val Loss: 0.4513\n",
            "Epoch 181, Train Loss: 0.4728, Val Loss: 0.4505\n",
            "Epoch 191, Train Loss: 0.4727, Val Loss: 0.4508\n",
            "Epoch 201, Train Loss: 0.4731, Val Loss: 0.4503\n",
            "Epoch 211, Train Loss: 0.4720, Val Loss: 0.4502\n",
            "Epoch 221, Train Loss: 0.4722, Val Loss: 0.4493\n",
            "Epoch 231, Train Loss: 0.4744, Val Loss: 0.4503\n",
            "Epoch 241, Train Loss: 0.4710, Val Loss: 0.4494\n",
            "Epoch 251, Train Loss: 0.4733, Val Loss: 0.4498\n",
            "Epoch 261, Train Loss: 0.4730, Val Loss: 0.4484\n",
            "Epoch 271, Train Loss: 0.4703, Val Loss: 0.4474\n",
            "Epoch 281, Train Loss: 0.4735, Val Loss: 0.4486\n",
            "Epoch 291, Train Loss: 0.4702, Val Loss: 0.4476\n"
          ]
        }
      ]
    },
    {
      "cell_type": "code",
      "source": [
        "plt.plot(train_losses, label='Train Loss')\n",
        "plt.plot(val_losses, label='Val Loss')\n",
        "plt.legend()\n",
        "plt.show()"
      ],
      "metadata": {
        "colab": {
          "base_uri": "https://localhost:8080/",
          "height": 430
        },
        "id": "OWYNyeyV4n97",
        "outputId": "7b0d42c9-1dcf-4c14-d50b-12074a327320"
      },
      "execution_count": 136,
      "outputs": [
        {
          "output_type": "display_data",
          "data": {
            "text/plain": [
              "<Figure size 640x480 with 1 Axes>"
            ],
            "image/png": "[encoded data removed]"
          },
          "metadata": {}
        }
      ]
    },
    {
      "cell_type": "code",
      "source": [
        "def predicted(model, loader):\n",
        "  correct = 0\n",
        "  total = 0\n",
        "  model.eval()\n",
        "  with torch.no_grad():\n",
        "    for data in loader:\n",
        "      out = model(data)\n",
        "      pred = (out > 0).float()\n",
        "      correct += pred.eq(data.y).sum().item()\n",
        "      total += data.y.numel()\n",
        "  return correct/total, pred"
      ],
      "metadata": {
        "id": "kUPrT4nr5MXe"
      },
      "execution_count": 137,
      "outputs": []
    },
    {
      "cell_type": "code",
      "source": [
        "test_acc, predictions = predicted(ppi_model, test_loader)\n",
        "print(f'Test Accuracy: {test_acc:.4f}')"
      ],
      "metadata": {
        "colab": {
          "base_uri": "https://localhost:8080/"
        },
        "id": "-CWw9nOdCsQx",
        "outputId": "ba915213-c476-4229-8857-699992c8b1df"
      },
      "execution_count": 138,
      "outputs": [
        {
          "output_type": "stream",
          "name": "stdout",
          "text": [
            "Test Accuracy: 0.7959\n"
          ]
        }
      ]
    }
  ],
  "metadata": {
    "colab": {
      "provenance": []
    },
    "kernelspec": {
      "display_name": "Python 3",
      "name": "python3"
    },
    "language_info": {
      "name": "python"
    }
  },
  "nbformat": 4,
  "nbformat_minor": 0
}